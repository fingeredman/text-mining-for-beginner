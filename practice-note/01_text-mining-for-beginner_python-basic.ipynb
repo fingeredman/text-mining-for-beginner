{
 "cells": [
  {
   "cell_type": "markdown",
   "metadata": {},
   "source": [
    "# TEXT MINING for BEGINNER\n",
    "- 본 자료는 텍스트 마이닝을 활용한 연구 및 강의를 위한 목적으로 제작되었습니다.\n",
    "- 본 자료를 강의 목적으로 활용하고자 하시는 경우 꼭 아래 메일주소로 연락주세요.\n",
    "- 본 자료에 대한 허가되지 않은 배포를 금지합니다.\n",
    "- 강의, 저작권, 출판, 특허, 공동저자에 관련해서는 문의 바랍니다.\n",
    "- **Contact : 전병진(fingeredman@gmail.com)**\n",
    "\n",
    "---"
   ]
  },
  {
   "cell_type": "markdown",
   "metadata": {},
   "source": [
    "## DAY 01. Python 기초문법 알아보기\n",
    "- 텍스트 마이닝을 위한 Python 기초문법에 대해 다룹니다.\n",
    "\n",
    "---"
   ]
  },
  {
   "cell_type": "markdown",
   "metadata": {},
   "source": [
    "### 1. PRINT 문: 문자 또는 숫자를 화면에 출력합니다.\n",
    "\n",
    "---"
   ]
  },
  {
   "cell_type": "code",
   "execution_count": 1,
   "metadata": {},
   "outputs": [
    {
     "name": "stdout",
     "output_type": "stream",
     "text": [
      "hello world!\n"
     ]
    }
   ],
   "source": [
    "# 샵(#) 뒤에 오는 문자열을 주석이라고 하며, 결과에 아무런 영향을 끼치지 않습니다.\n",
    "# print(12345)\n",
    "'''\n",
    "여러줄로 주석을 입력할 필요가 있을 때에는,\n",
    "작음따옴표 3개를 앞뒤에 사용합니다.\n",
    "print(\"hello world!\")\n",
    "'''\n",
    "print(\"hello world!\")"
   ]
  },
  {
   "cell_type": "code",
   "execution_count": 2,
   "metadata": {},
   "outputs": [
    {
     "name": "stdout",
     "output_type": "stream",
     "text": [
      "12345\n"
     ]
    }
   ],
   "source": [
    "# 1) 숫자를 출력합니다.\n",
    "print(12345)"
   ]
  },
  {
   "cell_type": "code",
   "execution_count": 3,
   "metadata": {},
   "outputs": [
    {
     "name": "stdout",
     "output_type": "stream",
     "text": [
      "큰따옴표 안에 내용을 입력합니다.\n"
     ]
    }
   ],
   "source": [
    "# 2) 큰따옴표 안에 문자열을 출력합니다.\n",
    "print(\"큰따옴표 안에 내용을 입력합니다.\")"
   ]
  },
  {
   "cell_type": "code",
   "execution_count": 4,
   "metadata": {},
   "outputs": [
    {
     "name": "stdout",
     "output_type": "stream",
     "text": [
      "작은따옴표 안에 내용을 입력합니다.\n"
     ]
    }
   ],
   "source": [
    "# 3) 작은따옴표 안에 문자열을 출력합니다.\n",
    "print('작은따옴표 안에 내용을 입력합니다.')"
   ]
  },
  {
   "cell_type": "code",
   "execution_count": 5,
   "metadata": {},
   "outputs": [
    {
     "name": "stdout",
     "output_type": "stream",
     "text": [
      "큰따옴표 안에 '작은따옴표'를 입력해 출력합니다.\n"
     ]
    }
   ],
   "source": [
    "# 4) \"작은따옴표\"를 \"큰따옴표\" 안에 입력해 출력합니다.\n",
    "print(\"큰따옴표 안에 '작은따옴표'를 입력해 출력합니다.\")"
   ]
  },
  {
   "cell_type": "code",
   "execution_count": 6,
   "metadata": {},
   "outputs": [
    {
     "name": "stdout",
     "output_type": "stream",
     "text": [
      "\"큰따옴표\"를 출력합니다.\n"
     ]
    }
   ],
   "source": [
    "# 5) 백슬러시를 큰따옴표 앞에 붙여 \"큰따옴표\"를 출력합니다.\n",
    "print(\"\\\"큰따옴표\\\"를 출력합니다.\")"
   ]
  },
  {
   "cell_type": "code",
   "execution_count": 7,
   "metadata": {},
   "outputs": [
    {
     "name": "stdout",
     "output_type": "stream",
     "text": [
      "더하기(+) 연산자를 활용해문자열을 결합하여 출력합니다.\n"
     ]
    }
   ],
   "source": [
    "# 6-1) 문자열을 더하기(+) 연산자를 활용해 결합하여 출력합니다.\n",
    "print(\"더하기(+) 연산자를 활용해\" + \"문자열을 결합하여 출력합니다.\")"
   ]
  },
  {
   "cell_type": "code",
   "execution_count": 8,
   "metadata": {},
   "outputs": [
    {
     "name": "stdout",
     "output_type": "stream",
     "text": [
      "콤마(,)를 활용해 문자열을 결합하여 출력합니다.\n"
     ]
    }
   ],
   "source": [
    "# 6-2) 문자열을 콤마(,)를 활용해 결합하여 출력합니다.\n",
    "print(\"콤마(,)를 활용해\", \"문자열을 결합하여 출력합니다.\")"
   ]
  },
  {
   "cell_type": "code",
   "execution_count": 9,
   "metadata": {},
   "outputs": [
    {
     "name": "stdout",
     "output_type": "stream",
     "text": [
      "str(NUM) 함수를 활용하면 문자열과 숫자의 '문자+10'결합이 가능합니다.\n"
     ]
    }
   ],
   "source": [
    "# 7-1) 숫자를 문자와 결합하는 경우에는 반드시 str(NUM) 함수를 활용해 문자열로 변환 후 결합해야합니다.\n",
    "print(\"str(NUM) 함수를 활용하면 문자열과 숫자의 '문자+\" + str(10) + \"'결합이 가능합니다.\")"
   ]
  },
  {
   "cell_type": "code",
   "execution_count": 10,
   "metadata": {},
   "outputs": [
    {
     "name": "stdout",
     "output_type": "stream",
     "text": [
      "str(NUM) 함수를 활용하면 문자열과 숫자의 '문자+ 10 '결합이 가능합니다.\n"
     ]
    }
   ],
   "source": [
    "# 7-2) 숫자를 문자와 결합하는 경우에 콤마(,)를 사용하면 str(NUM) 함수를 사용하지 않아도 됩니다.\n",
    "print(\"str(NUM) 함수를 활용하면 문자열과 숫자의 '문자+\", 10, \"'결합이 가능합니다.\")"
   ]
  },
  {
   "cell_type": "markdown",
   "metadata": {},
   "source": [
    "### 2. PRINT 문: 문자열 안에 탭(tab) 또는 줄바꿈(linefeed)을 삽입합니다.\n",
    "\n",
    "---"
   ]
  },
  {
   "cell_type": "code",
   "execution_count": 11,
   "metadata": {},
   "outputs": [
    {
     "name": "stdout",
     "output_type": "stream",
     "text": [
      "문자열 맨 뒤에 줄바꿈이 있기 때문에,\n",
      "다음줄에 이어서 출렵됩니다.\n"
     ]
    }
   ],
   "source": [
    "# 1) print(\"문자열\") 함수는 맨 뒤에 줄바꿈(\\n)을 포함합니다.\n",
    "print(\"문자열 맨 뒤에 줄바꿈이 있기 때문에,\")\n",
    "print(\"다음줄에 이어서 출렵됩니다.\")"
   ]
  },
  {
   "cell_type": "code",
   "execution_count": 12,
   "metadata": {},
   "outputs": [
    {
     "name": "stdout",
     "output_type": "stream",
     "text": [
      "맨 뒤에 줄바꿈 대신 다른 문자열넣었기 때문에, [다른 문자열] 같은줄에 이어서 출력됩니다.\n"
     ]
    }
   ],
   "source": [
    "# 2) end 옵션을 사용하면 맨 뒤에 줄바꿈(\\n) 대신 다른 문자열로 대체할 수 있습니다.\n",
    "print(\"맨 뒤에 줄바꿈 대신 다른 문자열넣었기 때문에, \", end=\"[다른 문자열] \")\n",
    "print(\"같은줄에 이어서 출력됩니다.\")"
   ]
  },
  {
   "cell_type": "code",
   "execution_count": 13,
   "metadata": {},
   "outputs": [
    {
     "name": "stdout",
     "output_type": "stream",
     "text": [
      "맨 뒤에 줄바꿈을 직접 입력할 수도 있으며,\n",
      "결과는 같습니다.\n"
     ]
    }
   ],
   "source": [
    "# 3) end 옵션에 줄바꿈(\\n)을 입력하면 기본 print(\"문자열\") 함수와 같은 기능을 수행합니다.\n",
    "print(\"맨 뒤에 줄바꿈을 직접 입력할 수도 있으며,\", end=\"\\n\")\n",
    "print(\"결과는 같습니다.\")"
   ]
  },
  {
   "cell_type": "code",
   "execution_count": 14,
   "metadata": {},
   "outputs": [
    {
     "name": "stdout",
     "output_type": "stream",
     "text": [
      "맨 뒤에 줄바꿈 대신 탭(\\t)을 넣으면,\t탭 뒤에 이어서 출력됩니다.\n"
     ]
    }
   ],
   "source": [
    "# 4) 탭(\\t) 또한 맨 뒤 문자열로 가능합니다.\n",
    "print(\"맨 뒤에 줄바꿈 대신 탭(\\\\t)을 넣으면,\", end=\"\\t\")\n",
    "print(\"탭 뒤에 이어서 출력됩니다.\")"
   ]
  },
  {
   "cell_type": "code",
   "execution_count": 15,
   "metadata": {},
   "outputs": [
    {
     "name": "stdout",
     "output_type": "stream",
     "text": [
      "따옴표 안에서 \t아무곳에나\n",
      "입력 가능합니다.\n"
     ]
    }
   ],
   "source": [
    "# 5) 탭(\\t), 줄바꿈(\\n) 기호는 따옴표 안에서 어디에든 입력 가능합니다.\n",
    "print(\"따옴표 안에서 \\t아무곳에나\\n입력 가능합니다.\")"
   ]
  },
  {
   "cell_type": "code",
   "execution_count": 16,
   "metadata": {},
   "outputs": [
    {
     "name": "stdout",
     "output_type": "stream",
     "text": [
      "띄어쓰기를 넣지 않아도 공백을 포함합니다.\n"
     ]
    }
   ],
   "source": [
    "# 6) 따옴표 밖의 콤마(,)는 문자열 결합과 함께 띄어쓰기를 포함합니다.\n",
    "print(\"띄어쓰기를\", \"넣지\", \"않아도\", \"공백을\", \"포함합니다.\")"
   ]
  },
  {
   "cell_type": "markdown",
   "metadata": {},
   "source": [
    "### 3. PRINT 문: PRINT문 안에서 숫자끼리의 연산이 가능합니다.\n",
    "\n",
    "---"
   ]
  },
  {
   "cell_type": "code",
   "execution_count": 17,
   "metadata": {},
   "outputs": [
    {
     "name": "stdout",
     "output_type": "stream",
     "text": [
      "2\n"
     ]
    }
   ],
   "source": [
    "# 1) 더하기\n",
    "print(1 + 1)"
   ]
  },
  {
   "cell_type": "code",
   "execution_count": 18,
   "metadata": {},
   "outputs": [
    {
     "name": "stdout",
     "output_type": "stream",
     "text": [
      "7\n"
     ]
    }
   ],
   "source": [
    "# 2) 빼기\n",
    "print(9 - 2)"
   ]
  },
  {
   "cell_type": "code",
   "execution_count": 19,
   "metadata": {},
   "outputs": [
    {
     "name": "stdout",
     "output_type": "stream",
     "text": [
      "20\n"
     ]
    }
   ],
   "source": [
    "# 3) 곱하기\n",
    "print(5 * 4)"
   ]
  },
  {
   "cell_type": "code",
   "execution_count": 20,
   "metadata": {},
   "outputs": [
    {
     "name": "stdout",
     "output_type": "stream",
     "text": [
      "4.0\n"
     ]
    }
   ],
   "source": [
    "# 4) 나누기\n",
    "print(8 / 2)"
   ]
  },
  {
   "cell_type": "code",
   "execution_count": 21,
   "metadata": {},
   "outputs": [
    {
     "name": "stdout",
     "output_type": "stream",
     "text": [
      "1024\n"
     ]
    }
   ],
   "source": [
    "# 5) 지수승\n",
    "print(2 ** 10)"
   ]
  },
  {
   "cell_type": "code",
   "execution_count": 22,
   "metadata": {},
   "outputs": [
    {
     "name": "stdout",
     "output_type": "stream",
     "text": [
      "6\n"
     ]
    }
   ],
   "source": [
    "# 6) 몫\n",
    "print(25 // 4)"
   ]
  },
  {
   "cell_type": "code",
   "execution_count": 23,
   "metadata": {},
   "outputs": [
    {
     "name": "stdout",
     "output_type": "stream",
     "text": [
      "1\n"
     ]
    }
   ],
   "source": [
    "# 7) 나머지\n",
    "print(25 % 4)"
   ]
  },
  {
   "cell_type": "code",
   "execution_count": 24,
   "metadata": {},
   "outputs": [
    {
     "name": "stdout",
     "output_type": "stream",
     "text": [
      "True\n",
      "False\n"
     ]
    }
   ],
   "source": [
    "# 8) 등호\n",
    "print(2 == 2)\n",
    "print(2 != 2)"
   ]
  },
  {
   "cell_type": "code",
   "execution_count": 25,
   "metadata": {},
   "outputs": [
    {
     "name": "stdout",
     "output_type": "stream",
     "text": [
      "True\n",
      "False\n"
     ]
    }
   ],
   "source": [
    "# 9) 부등호\n",
    "print(3 > 2)\n",
    "print(3 < 2)"
   ]
  },
  {
   "cell_type": "code",
   "execution_count": 26,
   "metadata": {},
   "outputs": [
    {
     "name": "stdout",
     "output_type": "stream",
     "text": [
      "True\n",
      "False\n",
      "False\n",
      "False\n"
     ]
    }
   ],
   "source": [
    "# 10-1) 논리연산자(and)\n",
    "print(True and True)\n",
    "print(False and True)\n",
    "print(True and False)\n",
    "print(False and False)"
   ]
  },
  {
   "cell_type": "code",
   "execution_count": 27,
   "metadata": {},
   "outputs": [
    {
     "name": "stdout",
     "output_type": "stream",
     "text": [
      "True\n",
      "True\n",
      "True\n",
      "False\n"
     ]
    }
   ],
   "source": [
    "# 10-1) 논리연산자(or)\n",
    "print(True or True)\n",
    "print(False or True)\n",
    "print(True or False)\n",
    "print(False or False)"
   ]
  },
  {
   "cell_type": "code",
   "execution_count": 28,
   "metadata": {},
   "outputs": [
    {
     "name": "stdout",
     "output_type": "stream",
     "text": [
      "False\n",
      "True\n"
     ]
    }
   ],
   "source": [
    "# 11-1) 다중 논리연산자\n",
    "print(2 > 1 and 3 < 3)\n",
    "print(2 > 1 or 3 <= 3)"
   ]
  },
  {
   "cell_type": "code",
   "execution_count": 29,
   "metadata": {},
   "outputs": [
    {
     "name": "stdout",
     "output_type": "stream",
     "text": [
      "False\n",
      "True\n"
     ]
    }
   ],
   "source": [
    "# 11-2) 다중 논리연산자(비트연산)\n",
    "print((2 > 1) & (3 < 3))\n",
    "print((2 > 1) | (3 <= 3))"
   ]
  },
  {
   "cell_type": "markdown",
   "metadata": {},
   "source": [
    "### 3. PRINT 문: 문자열과 숫자 대신에 변수(variable)를 활용합니다.\n",
    "\n",
    "---"
   ]
  },
  {
   "cell_type": "code",
   "execution_count": 30,
   "metadata": {
    "collapsed": true
   },
   "outputs": [],
   "source": [
    "# 1-1) 변수에 값 또는 자료구조를 저장합니다.\n",
    "a = 10\n",
    "b = 20\n",
    "new_list = [1, 2, 3]\n",
    "new_dict = {\"Seoul\": 1, \"Busan\": 2, \"Daegu\": 3}\n",
    "new_text = \"  앞에 공백과 뒤에 줄바꿈이 달린 문자열 입니다. \\n\""
   ]
  },
  {
   "cell_type": "code",
   "execution_count": 31,
   "metadata": {},
   "outputs": [
    {
     "name": "stdout",
     "output_type": "stream",
     "text": [
      "a, b : 10 20\n",
      "new_list : [1, 2, 3]\n",
      "new_dict : {'Seoul': 1, 'Busan': 2, 'Daegu': 3}\n",
      "new_text :   앞에 공백과 뒤에 줄바꿈이 달린 문자열 입니다. \n",
      "\n"
     ]
    }
   ],
   "source": [
    "# 1-2) 값 또는 자료구조가 저장된 변수를 출력합니다.\n",
    "print(\"a, b :\", a, b)\n",
    "print(\"new_list :\", new_list)\n",
    "print(\"new_dict :\", new_dict)\n",
    "print(\"new_text :\", new_text)"
   ]
  },
  {
   "cell_type": "code",
   "execution_count": 32,
   "metadata": {},
   "outputs": [
    {
     "name": "stdout",
     "output_type": "stream",
     "text": [
      "Type of a, b : <class 'int'> <class 'int'>\n",
      "Type of new_list : <class 'list'>\n",
      "Type of new_dict : <class 'dict'>\n",
      "Type of new_text : <class 'str'>\n"
     ]
    }
   ],
   "source": [
    "# 1-3) 변수에 저장된 값 또는 자료구조의 유형을 type(변수) 함수를 활용해 확인합니다.\n",
    "print(\"Type of a, b :\", type(a), type(b))\n",
    "print(\"Type of new_list :\", type(new_list))\n",
    "print(\"Type of new_dict :\", type(new_dict))\n",
    "print(\"Type of new_text :\", type(new_text))"
   ]
  },
  {
   "cell_type": "code",
   "execution_count": 33,
   "metadata": {},
   "outputs": [
    {
     "name": "stdout",
     "output_type": "stream",
     "text": [
      "a + b : 30\n",
      "a - b : -10\n",
      "a * b : 200\n",
      "a / b : 0.5\n"
     ]
    }
   ],
   "source": [
    "# 1-4) 변수를 활용해 숫자끼리의 연산이 가능합니다.\n",
    "print(\"a + b :\", a + b)\n",
    "print(\"a - b :\", a - b)\n",
    "print(\"a * b :\", a * b)\n",
    "print(\"a / b :\", a / b)"
   ]
  },
  {
   "cell_type": "code",
   "execution_count": 34,
   "metadata": {},
   "outputs": [
    {
     "name": "stdout",
     "output_type": "stream",
     "text": [
      "a : 1\n",
      "a + 1 : 2\n",
      "a += 1 : 3\n",
      "a -= 1 : -2\n",
      "a *= 1 : -6\n"
     ]
    }
   ],
   "source": [
    "# 1-5) 연산자와 등호를 결합한 새로운 연산자를 활용해 연산결과를 바로 변수에 저장합니다.\n",
    "a = 1\n",
    "print(\"a :\", a)\n",
    "a = a + 1\n",
    "print(\"a + 1 :\", a)\n",
    "a += 1\n",
    "print(\"a += 1 :\", a)\n",
    "a -= 5\n",
    "print(\"a -= 1 :\", a)\n",
    "a *= 3\n",
    "print(\"a *= 1 :\", a)"
   ]
  }
 ],
 "metadata": {
  "kernelspec": {
   "display_name": "Python 3",
   "language": "python",
   "name": "python3"
  },
  "language_info": {
   "codemirror_mode": {
    "name": "ipython",
    "version": 3
   },
   "file_extension": ".py",
   "mimetype": "text/x-python",
   "name": "python",
   "nbconvert_exporter": "python",
   "pygments_lexer": "ipython3",
   "version": "3.6.8"
  }
 },
 "nbformat": 4,
 "nbformat_minor": 2
}
