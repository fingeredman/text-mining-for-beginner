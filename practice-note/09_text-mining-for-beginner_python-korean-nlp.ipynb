{
 "cells": [
  {
   "cell_type": "markdown",
   "metadata": {},
   "source": [
    "# TEXT MINING for BEGINNER\n",
    "- 본 자료는 텍스트 마이닝을 활용한 연구 및 강의를 위한 목적으로 제작되었습니다.\n",
    "- 본 자료를 강의 목적으로 활용하고자 하시는 경우 꼭 아래 메일주소로 연락주세요.\n",
    "- 본 자료에 대한 허가되지 않은 배포를 금지합니다.\n",
    "- 강의, 저작권, 출판, 특허, 공동저자에 관련해서는 문의 바랍니다.\n",
    "- **Contact : ADMIN(admin@teanaps.com)**\n",
    "\n",
    "---"
   ]
  },
  {
   "cell_type": "markdown",
   "metadata": {},
   "source": [
    "## DAY 09. 한국어 텍스트 전처리 실습하기: KoNLPy\n",
    "- Python의 KoNLPy 패키지를 활용해 텍스트 데이터를 전처리하는 방법에 대해 다룹니다.\n",
    "\n",
    "---"
   ]
  },
  {
   "cell_type": "markdown",
   "metadata": {},
   "source": [
    "### 1. 텍스트 데이터를 다루는 다양한 방법 알아보기\n",
    "\n",
    "---"
   ]
  },
  {
   "cell_type": "markdown",
   "metadata": {},
   "source": [
    "#### 1.1. 텍스트 데이터를 다루는 기본함수 알아보기\n",
    "\n",
    "---"
   ]
  },
  {
   "cell_type": "code",
   "execution_count": 1,
   "metadata": {},
   "outputs": [
    {
     "name": "stdout",
     "output_type": "stream",
     "text": [
      "앞에 공백과 뒤에 줄바꿈이 달린 문자열 입니다.\n"
     ]
    }
   ],
   "source": [
    "# 1-1) 텍스트 앞뒤의 불필요한 문자열 지우기\n",
    "# strip() 함수는 문자열의 맨 앞과 뒤에 붙어있는 개행문자(\\n), 공백문자(\\s), 탭(\\t)을 제거합니다.\n",
    "new_text = \"  앞에 공백과 뒤에 줄바꿈이 달린 문자열 입니다. \\n\"\n",
    "new_text = new_text.strip()\n",
    "print(new_text)"
   ]
  },
  {
   "cell_type": "code",
   "execution_count": 2,
   "metadata": {},
   "outputs": [
    {
     "name": "stdout",
     "output_type": "stream",
     "text": [
      "앞에 공백과 뒤에 줄바꿈이 달린 문자열 입니다. \n",
      "\n"
     ]
    }
   ],
   "source": [
    "# 1-2) 텍스트 앞에 붙은 불필요한 문자열 지우기\n",
    "# strip() 함수는 문자열의 맨 앞과 뒤에 붙어있는 개행문자(\\n), 공백문자(\\s), 탭(\\t)을 제거합니다.\n",
    "new_text = \"  앞에 공백과 뒤에 줄바꿈이 달린 문자열 입니다. \\n\"\n",
    "new_text = new_text.lstrip()\n",
    "print(new_text)"
   ]
  },
  {
   "cell_type": "code",
   "execution_count": 3,
   "metadata": {},
   "outputs": [
    {
     "name": "stdout",
     "output_type": "stream",
     "text": [
      "  앞에 공백과 뒤에 줄바꿈이 달린 문자열 입니다.\n"
     ]
    }
   ],
   "source": [
    "# 1-3) 텍스트 뒤에 붙은 불필요한 문자열 지우기\n",
    "# strip() 함수는 문자열의 맨 앞과 뒤에 붙어있는 개행문자(\\n), 공백문자(\\s), 탭(\\t)을 제거합니다.\n",
    "new_text = \"  앞에 공백과 뒤에 줄바꿈이 달린 문자열 입니다. \\n\"\n",
    "new_text = new_text.rstrip()\n",
    "print(new_text)"
   ]
  },
  {
   "cell_type": "code",
   "execution_count": 4,
   "metadata": {},
   "outputs": [
    {
     "name": "stdout",
     "output_type": "stream",
     "text": [
      "['영', '일', '이', '삼', '사', '오', '육', '칠', '팔', '구', '십']\n"
     ]
    }
   ],
   "source": [
    "# 2) 텍스트를 문자열 단위로 나눠 리스트로 만들기\n",
    "# split(STRING) 함수는 문자열을 STRING 단위로 나눠 리스트 형태로 만듭니다.\n",
    "# STRING에는 공백문자를 입력할 수 없습니다.\n",
    "new_text = \"영,일,이,삼,사,오,육,칠,팔,구,십\"\n",
    "string_list = new_text.split(\",\")\n",
    "print(string_list)"
   ]
  },
  {
   "cell_type": "code",
   "execution_count": 5,
   "metadata": {},
   "outputs": [
    {
     "name": "stdout",
     "output_type": "stream",
     "text": [
      "저의 직업은 데이터 엔지니어 입니다.\n"
     ]
    }
   ],
   "source": [
    "# 3) 텍스트 일부를 치환하기\n",
    "# replace(STRING, NEW_STRING) 함수는 문자열(STRING)의 일부를 다른 문자열(NEW_STRING)로 치환합니다.\n",
    "new_text = \"저의 직업은 프로그램 개발자 입니다.\"\n",
    "new_text = new_text.replace(\"프로그램 개발자\", \"데이터 엔지니어\")\n",
    "print(new_text)"
   ]
  },
  {
   "cell_type": "code",
   "execution_count": 6,
   "metadata": {},
   "outputs": [
    {
     "name": "stdout",
     "output_type": "stream",
     "text": [
      "저의\n",
      "직업은\n",
      "데이터\n",
      "엔지니어\n",
      "입니다.\n"
     ]
    }
   ],
   "source": [
    "# 문자열이 아닌 특수기호도 치환이 가능합니다.\n",
    "new_text = new_text.replace(\" \", \"\\n\")\n",
    "print(new_text)"
   ]
  },
  {
   "cell_type": "code",
   "execution_count": 7,
   "metadata": {},
   "outputs": [
    {
     "name": "stdout",
     "output_type": "stream",
     "text": [
      "TEXT MINING은 DATA MINING의 한 분야입니다.\n"
     ]
    }
   ],
   "source": [
    "# 4-1) 텍스트에 포함된 소문자 알파벳을 대문자로 변경하기\n",
    "# upper() 함수는 문자열에 포함된 소문자 알파벳을 모두 대문자로 변경합니다.\n",
    "new_text = \"text mining은 DATA MINING의 한 분야입니다.\"\n",
    "new_text = new_text.upper()\n",
    "print(new_text)"
   ]
  },
  {
   "cell_type": "code",
   "execution_count": 8,
   "metadata": {},
   "outputs": [
    {
     "name": "stdout",
     "output_type": "stream",
     "text": [
      "text mining은 data mining의 한 분야입니다.\n"
     ]
    }
   ],
   "source": [
    "# 4-2) 텍스트에 포함된 대문자 알파벳을 소문자로 변경하기\n",
    "# lower() 함수는 문자열에 포함된 대문자 알파벳을 모두 소문자로 변경합니다.\n",
    "new_text = \"text mining은 DATA MINING의 한 분야입니다.\"\n",
    "new_text = new_text.lower()\n",
    "print(new_text)"
   ]
  },
  {
   "cell_type": "code",
   "execution_count": 9,
   "metadata": {},
   "outputs": [
    {
     "name": "stdout",
     "output_type": "stream",
     "text": [
      "6\n"
     ]
    }
   ],
   "source": [
    "# 5) 텍스트에 포함된 문자열의 인덱스 찾아내기\n",
    "new_text = \"영일이삼사오육칠팔구십\"\n",
    "string_index = new_text.index(\"육\")\n",
    "print(string_index)"
   ]
  },
  {
   "cell_type": "markdown",
   "metadata": {},
   "source": [
    "#### 1.2. 텍스트 데이터를 리스트 처럼 다루기\n",
    "\n",
    "---"
   ]
  },
  {
   "cell_type": "code",
   "execution_count": 10,
   "metadata": {},
   "outputs": [],
   "source": [
    "# Python에서 문자열은 리스트와 유사한 자료구조로 취급해 인덱싱 할 수 있습니다.\n",
    "new_text = \"영일이삼사오육칠팔구\"\n",
    "new_list = [0, 1, 2, 3, 4, 5, 6, 7, 8,  9]"
   ]
  },
  {
   "cell_type": "code",
   "execution_count": 11,
   "metadata": {},
   "outputs": [
    {
     "name": "stdout",
     "output_type": "stream",
     "text": [
      "new_text : 영일이삼사오육칠팔구십\n",
      "new_list : [0, 1, 2, 3, 4, 5, 6, 7, 8, 9, 10]\n"
     ]
    }
   ],
   "source": [
    "# 1) 더하기 연산자를 활용해 두 문자열을 결합합니다.\n",
    "new_text = new_text + \"십\"\n",
    "new_list = new_list + [10]\n",
    "print(\"new_text :\", new_text)\n",
    "print(\"new_list :\", new_list)"
   ]
  },
  {
   "cell_type": "code",
   "execution_count": 12,
   "metadata": {},
   "outputs": [
    {
     "name": "stdout",
     "output_type": "stream",
     "text": [
      "new_text_length : 11\n",
      "new_list_length : 11\n"
     ]
    }
   ],
   "source": [
    "# 2) 문자열에 존재하는 모든 문자의 개수를 불러옵니다.\n",
    "new_text_length = len(new_text)\n",
    "new_list_length = len(new_list)\n",
    "print(\"new_text_length :\", new_text_length)\n",
    "print(\"new_list_length :\", new_list_length)"
   ]
  },
  {
   "cell_type": "code",
   "execution_count": 13,
   "metadata": {},
   "outputs": [
    {
     "name": "stdout",
     "output_type": "stream",
     "text": [
      "True\n",
      "True\n"
     ]
    }
   ],
   "source": [
    "# 3-1) 문자열에 특정 문자가 존재하는지 여부를 in 연산자를 통해 확인합니다.\n",
    "print(\"칠\" in new_text)\n",
    "print(7 in new_list)"
   ]
  },
  {
   "cell_type": "code",
   "execution_count": 14,
   "metadata": {},
   "outputs": [
    {
     "name": "stdout",
     "output_type": "stream",
     "text": [
      "False\n",
      "False\n"
     ]
    }
   ],
   "source": [
    "# 3-2) 문자열에 특정 문자가 존재하지 않는지 여부를 not in 연산자를 통해 확인합니다.\n",
    "print(\"칠\" not in new_text)\n",
    "print(7 not in new_list)"
   ]
  },
  {
   "cell_type": "code",
   "execution_count": 15,
   "metadata": {},
   "outputs": [
    {
     "name": "stdout",
     "output_type": "stream",
     "text": [
      "0번째 문자 : 영\n",
      "1번째 문자 : 일\n",
      "4번째 문자 : 사\n"
     ]
    }
   ],
   "source": [
    "# 4) 문자열에 존재하는 N 번째 문자를 불러옵니다.\n",
    "print(\"0번째 문자 :\", new_text[0])\n",
    "print(\"1번째 문자 :\", new_text[1])\n",
    "print(\"4번째 문자 :\", new_text[4])"
   ]
  },
  {
   "cell_type": "code",
   "execution_count": 16,
   "metadata": {},
   "outputs": [
    {
     "name": "stdout",
     "output_type": "stream",
     "text": [
      "0~3번째 문자 : 영일이\n",
      "4~9번째 문자 : 사오육칠팔\n",
      "2~3번째 문자 : 이\n"
     ]
    }
   ],
   "source": [
    "# 5) 문자열에 존재하는 N번째 부터 M-1번째 문자를 리스트 형식으로 불러옵니다.\n",
    "print(\"0~3번째 문자 :\", new_text[0:3])\n",
    "print(\"4~9번째 문자 :\", new_text[4:9])\n",
    "print(\"2~3번째 문자 :\", new_text[2:3])"
   ]
  },
  {
   "cell_type": "code",
   "execution_count": 17,
   "metadata": {},
   "outputs": [
    {
     "name": "stdout",
     "output_type": "stream",
     "text": [
      "3번째 부터 모든 문자 : 삼사오육칠팔구십\n",
      "5번째 부터 모든 문자 : 오육칠팔구십\n",
      "9번째 부터 모든 문자 : 구십\n"
     ]
    }
   ],
   "source": [
    "# 6) 문자열에 존재하는 N번째 부터 모든 문자를 리스트 형식으로 불러옵니다.\n",
    "print(\"3번째 부터 모든 문자 :\", new_text[3:])\n",
    "print(\"5번째 부터 모든 문자 :\", new_text[5:])\n",
    "print(\"9번째 부터 모든 문자 :\", new_text[9:])"
   ]
  },
  {
   "cell_type": "code",
   "execution_count": 18,
   "metadata": {},
   "outputs": [
    {
     "name": "stdout",
     "output_type": "stream",
     "text": [
      "1번째 이전의 모든 문자 : 영\n",
      "7번째 이전의 모든 문자 : 영일이삼사오육\n",
      "9번째 이전의 모든 문자 : 영일이삼사오육칠팔\n"
     ]
    }
   ],
   "source": [
    "# 7) 문자열에 존재하는 N번째 이전의 모든 문자를 리스트 형식으로 불러옵니다.\n",
    "print(\"1번째 이전의 모든 문자 :\", new_text[:1])\n",
    "print(\"7번째 이전의 모든 문자 :\", new_text[:7])\n",
    "print(\"9번째 이전의 모든 문자 :\", new_text[:9])"
   ]
  },
  {
   "cell_type": "code",
   "execution_count": 19,
   "metadata": {},
   "outputs": [
    {
     "name": "stdout",
     "output_type": "stream",
     "text": [
      "끝에서 |-1|-1번째 이전의 모든 문자 : 영일이삼사오육칠팔구\n",
      "끝에서 |-1|-1번째 부터 모든 문자 : 십\n",
      "끝에서 |-2|-1번째 이전의 모든 문자 : 영일이삼사오육칠팔\n",
      "끝에서 |-2|-1번째 부터 모든 문자 : 구십\n"
     ]
    }
   ],
   "source": [
    "# 8) 문자열 인덱싱에 사용되는 정수 N의 부호가 음수인 경우, 마지막 문자부터 |N|-1번째 원소를 의미합니다.\n",
    "print(\"끝에서 |-1|-1번째 이전의 모든 문자 :\", new_text[:-1])\n",
    "print(\"끝에서 |-1|-1번째 부터 모든 문자 :\", new_text[-1:])\n",
    "print(\"끝에서 |-2|-1번째 이전의 모든 문자 :\", new_text[:-2])\n",
    "print(\"끝에서 |-2|-1번째 부터 모든 문자 :\", new_text[-2:])"
   ]
  },
  {
   "cell_type": "code",
   "execution_count": 20,
   "metadata": {},
   "outputs": [
    {
     "name": "stdout",
     "output_type": "stream",
     "text": [
      "영 일 이 삼 사 오 육 칠 팔 구 십 "
     ]
    }
   ],
   "source": [
    "# 9) FOR 문의 for + (반복할 변수) + in + (반복할 값이 저장된 리스트): 구조에서 리스트 대신 문자열을 활용합니다.\n",
    "for i in new_text:\n",
    "    print(i, end=\" \")"
   ]
  },
  {
   "cell_type": "markdown",
   "metadata": {},
   "source": [
    "### 2. 한국어 텍스트 데이터를 전처리하는 방법 알아보기: KoNLPy\n",
    "\n",
    "---"
   ]
  },
  {
   "cell_type": "markdown",
   "metadata": {},
   "source": [
    "#### 2.1. KoNLPy 패키지 설치하기\n",
    "\n",
    "---"
   ]
  },
  {
   "cell_type": "code",
   "execution_count": 21,
   "metadata": {},
   "outputs": [],
   "source": [
    "# 한국어 텍스트 전처리를 도와주는 konlpy 패키지를 설치합니다.\n",
    "# konlpy를 활용하기 위해서는 jpype1 패키지도 설치합니다.\n",
    "# jpype1 패키지가 동작하기 위해서는 Java JDK 설치가 필요합니다."
   ]
  },
  {
   "cell_type": "code",
   "execution_count": 22,
   "metadata": {},
   "outputs": [],
   "source": [
    "#!pip install jpype1"
   ]
  },
  {
   "cell_type": "code",
   "execution_count": 23,
   "metadata": {},
   "outputs": [],
   "source": [
    "#!pip install konlpy"
   ]
  },
  {
   "cell_type": "markdown",
   "metadata": {},
   "source": [
    "#### 2.2. KoNLPy 패키지 내 형태소분석기 호출하기\n",
    "\n",
    "---"
   ]
  },
  {
   "cell_type": "code",
   "execution_count": 24,
   "metadata": {},
   "outputs": [],
   "source": [
    "# KoNLPy 패키지에서는 총 5가지 형태소분석기를 제공합니다.\n",
    "# 그 중 꼬꼬마와 한나눔, OKT 형태소분석기를 불러와 비교합니다.\n",
    "\n",
    "text = \"아버지가 가방에 들어가신다.\""
   ]
  },
  {
   "cell_type": "code",
   "execution_count": 25,
   "metadata": {},
   "outputs": [
    {
     "name": "stdout",
     "output_type": "stream",
     "text": [
      "[('아버지', 'NNG'), ('가', 'JKS'), ('가방', 'NNG'), ('에', 'JKM'), ('들어가', 'VV'), ('시', 'EPH'), ('ㄴ다', 'EFN'), ('.', 'SF')]\n"
     ]
    }
   ],
   "source": [
    "# 꼬꼬마 형태소 분석기를 불러옵니다.\n",
    "from konlpy.tag import Kkma\n",
    "kkma = Kkma()\n",
    "\n",
    "print(kkma.pos(text))"
   ]
  },
  {
   "cell_type": "code",
   "execution_count": 27,
   "metadata": {},
   "outputs": [],
   "source": [
    "# 한나눔 형태소 분석기를 불러옵니다.\n",
    "#from konlpy.tag import Hannanum\n",
    "#hannanum = Hannanum()\n",
    "\n",
    "#print(hannanum.pos(text))"
   ]
  },
  {
   "cell_type": "code",
   "execution_count": 29,
   "metadata": {},
   "outputs": [],
   "source": [
    "# OKT(Twitter) 형태소 분석기를 불러옵니다.\n",
    "#from konlpy.tag import Okt\n",
    "#okt = Okt()\n",
    "\n",
    "#print(okt.pos(text))"
   ]
  },
  {
   "cell_type": "code",
   "execution_count": 30,
   "metadata": {},
   "outputs": [],
   "source": [
    "# 형태소분석기는 종류별로 형태소를 분리하는 기준과 태그명이 다릅니다.\n",
    "# 본 자료에서는 꼬꼬마 형태소 분석기를 활용합니다."
   ]
  },
  {
   "cell_type": "code",
   "execution_count": 38,
   "metadata": {},
   "outputs": [
    {
     "data": {
      "text/plain": [
       "'안녕\\tNNG,*,T,안녕,*,*,*,*\\n하\\tXSV,*,F,하,*,*,*,*\\n세요\\tEP+EF,*,F,세요,Inflect,EP,EF,시/EP/*+어요/EF/*\\nEOS\\n'"
      ]
     },
     "execution_count": 38,
     "metadata": {},
     "output_type": "execute_result"
    }
   ],
   "source": [
    "import MeCab\n",
    "mecab_ko = MeCab.Tagger()\n",
    "mecab_ko.parse(\"안녕하세요\")"
   ]
  },
  {
   "cell_type": "code",
   "execution_count": 41,
   "metadata": {},
   "outputs": [
    {
     "ename": "Exception",
     "evalue": "Install MeCab in order to use it: http://konlpy.org/en/latest/install/",
     "output_type": "error",
     "traceback": [
      "\u001b[0;31m---------------------------------------------------------------------------\u001b[0m",
      "\u001b[0;31mNameError\u001b[0m                                 Traceback (most recent call last)",
      "\u001b[0;32m~/opt/anaconda3/lib/python3.8/site-packages/konlpy/tag/_mecab.py\u001b[0m in \u001b[0;36m__init__\u001b[0;34m(self, dicpath)\u001b[0m\n\u001b[1;32m    106\u001b[0m         \u001b[0;32mtry\u001b[0m\u001b[0;34m:\u001b[0m\u001b[0;34m\u001b[0m\u001b[0;34m\u001b[0m\u001b[0m\n\u001b[0;32m--> 107\u001b[0;31m             \u001b[0mself\u001b[0m\u001b[0;34m.\u001b[0m\u001b[0mtagger\u001b[0m \u001b[0;34m=\u001b[0m \u001b[0mTagger\u001b[0m\u001b[0;34m(\u001b[0m\u001b[0;34m'-d %s'\u001b[0m \u001b[0;34m%\u001b[0m \u001b[0mdicpath\u001b[0m\u001b[0;34m)\u001b[0m\u001b[0;34m\u001b[0m\u001b[0;34m\u001b[0m\u001b[0m\n\u001b[0m\u001b[1;32m    108\u001b[0m             \u001b[0mself\u001b[0m\u001b[0;34m.\u001b[0m\u001b[0mtagset\u001b[0m \u001b[0;34m=\u001b[0m \u001b[0mutils\u001b[0m\u001b[0;34m.\u001b[0m\u001b[0mread_json\u001b[0m\u001b[0;34m(\u001b[0m\u001b[0;34m'%s/data/tagset/mecab.json'\u001b[0m \u001b[0;34m%\u001b[0m \u001b[0mutils\u001b[0m\u001b[0;34m.\u001b[0m\u001b[0minstallpath\u001b[0m\u001b[0;34m)\u001b[0m\u001b[0;34m\u001b[0m\u001b[0;34m\u001b[0m\u001b[0m\n",
      "\u001b[0;31mNameError\u001b[0m: name 'Tagger' is not defined",
      "\nDuring handling of the above exception, another exception occurred:\n",
      "\u001b[0;31mException\u001b[0m                                 Traceback (most recent call last)",
      "\u001b[0;32m<ipython-input-41-4d0296ba0b81>\u001b[0m in \u001b[0;36m<module>\u001b[0;34m\u001b[0m\n\u001b[1;32m      1\u001b[0m \u001b[0;32mfrom\u001b[0m \u001b[0mkonlpy\u001b[0m\u001b[0;34m.\u001b[0m\u001b[0mtag\u001b[0m \u001b[0;32mimport\u001b[0m \u001b[0mMecab\u001b[0m\u001b[0;34m\u001b[0m\u001b[0;34m\u001b[0m\u001b[0m\n\u001b[0;32m----> 2\u001b[0;31m \u001b[0mmecab\u001b[0m \u001b[0;34m=\u001b[0m \u001b[0mMecab\u001b[0m\u001b[0;34m(\u001b[0m\u001b[0;34m\"/usr/local/lib/mecab/dic/mecab-ko-dic\"\u001b[0m\u001b[0;34m)\u001b[0m\u001b[0;34m\u001b[0m\u001b[0;34m\u001b[0m\u001b[0m\n\u001b[0m",
      "\u001b[0;32m~/opt/anaconda3/lib/python3.8/site-packages/konlpy/tag/_mecab.py\u001b[0m in \u001b[0;36m__init__\u001b[0;34m(self, dicpath)\u001b[0m\n\u001b[1;32m    110\u001b[0m             \u001b[0;32mraise\u001b[0m \u001b[0mException\u001b[0m\u001b[0;34m(\u001b[0m\u001b[0;34m'The MeCab dictionary does not exist at \"%s\". Is the dictionary correctly installed?\\nYou can also try entering the dictionary path when initializing the Mecab class: \"Mecab(\\'/some/dic/path\\')\"'\u001b[0m \u001b[0;34m%\u001b[0m \u001b[0mdicpath\u001b[0m\u001b[0;34m)\u001b[0m\u001b[0;34m\u001b[0m\u001b[0;34m\u001b[0m\u001b[0m\n\u001b[1;32m    111\u001b[0m         \u001b[0;32mexcept\u001b[0m \u001b[0mNameError\u001b[0m\u001b[0;34m:\u001b[0m\u001b[0;34m\u001b[0m\u001b[0;34m\u001b[0m\u001b[0m\n\u001b[0;32m--> 112\u001b[0;31m             \u001b[0;32mraise\u001b[0m \u001b[0mException\u001b[0m\u001b[0;34m(\u001b[0m\u001b[0;34m'Install MeCab in order to use it: http://konlpy.org/en/latest/install/'\u001b[0m\u001b[0;34m)\u001b[0m\u001b[0;34m\u001b[0m\u001b[0;34m\u001b[0m\u001b[0m\n\u001b[0m",
      "\u001b[0;31mException\u001b[0m: Install MeCab in order to use it: http://konlpy.org/en/latest/install/"
     ]
    }
   ],
   "source": [
    "from konlpy.tag import Mecab\n",
    "mecab = Mecab(\"/usr/local/lib/mecab/dic/mecab-ko-dic\")"
   ]
  },
  {
   "cell_type": "code",
   "execution_count": 53,
   "metadata": {},
   "outputs": [],
   "source": [
    "from konlpy.tag import Mecab"
   ]
  },
  {
   "cell_type": "code",
   "execution_count": 54,
   "metadata": {},
   "outputs": [
    {
     "ename": "Exception",
     "evalue": "Install MeCab in order to use it: http://konlpy.org/en/latest/install/",
     "output_type": "error",
     "traceback": [
      "\u001b[0;31m---------------------------------------------------------------------------\u001b[0m",
      "\u001b[0;31mNameError\u001b[0m                                 Traceback (most recent call last)",
      "\u001b[0;32m~/opt/anaconda3/lib/python3.8/site-packages/konlpy/tag/_mecab.py\u001b[0m in \u001b[0;36m__init__\u001b[0;34m(self, dicpath)\u001b[0m\n\u001b[1;32m    106\u001b[0m         \u001b[0;32mtry\u001b[0m\u001b[0;34m:\u001b[0m\u001b[0;34m\u001b[0m\u001b[0;34m\u001b[0m\u001b[0m\n\u001b[0;32m--> 107\u001b[0;31m             \u001b[0mself\u001b[0m\u001b[0;34m.\u001b[0m\u001b[0mtagger\u001b[0m \u001b[0;34m=\u001b[0m \u001b[0mTagger\u001b[0m\u001b[0;34m(\u001b[0m\u001b[0;34m'-d %s'\u001b[0m \u001b[0;34m%\u001b[0m \u001b[0mdicpath\u001b[0m\u001b[0;34m)\u001b[0m\u001b[0;34m\u001b[0m\u001b[0;34m\u001b[0m\u001b[0m\n\u001b[0m\u001b[1;32m    108\u001b[0m             \u001b[0mself\u001b[0m\u001b[0;34m.\u001b[0m\u001b[0mtagset\u001b[0m \u001b[0;34m=\u001b[0m \u001b[0mutils\u001b[0m\u001b[0;34m.\u001b[0m\u001b[0mread_json\u001b[0m\u001b[0;34m(\u001b[0m\u001b[0;34m'%s/data/tagset/mecab.json'\u001b[0m \u001b[0;34m%\u001b[0m \u001b[0mutils\u001b[0m\u001b[0;34m.\u001b[0m\u001b[0minstallpath\u001b[0m\u001b[0;34m)\u001b[0m\u001b[0;34m\u001b[0m\u001b[0;34m\u001b[0m\u001b[0m\n",
      "\u001b[0;31mNameError\u001b[0m: name 'Tagger' is not defined",
      "\nDuring handling of the above exception, another exception occurred:\n",
      "\u001b[0;31mException\u001b[0m                                 Traceback (most recent call last)",
      "\u001b[0;32m<ipython-input-54-3151c21416e4>\u001b[0m in \u001b[0;36m<module>\u001b[0;34m\u001b[0m\n\u001b[0;32m----> 1\u001b[0;31m \u001b[0mm\u001b[0m \u001b[0;34m=\u001b[0m \u001b[0mMecab\u001b[0m\u001b[0;34m(\u001b[0m\u001b[0;34m)\u001b[0m\u001b[0;34m\u001b[0m\u001b[0;34m\u001b[0m\u001b[0m\n\u001b[0m",
      "\u001b[0;32m~/opt/anaconda3/lib/python3.8/site-packages/konlpy/tag/_mecab.py\u001b[0m in \u001b[0;36m__init__\u001b[0;34m(self, dicpath)\u001b[0m\n\u001b[1;32m    110\u001b[0m             \u001b[0;32mraise\u001b[0m \u001b[0mException\u001b[0m\u001b[0;34m(\u001b[0m\u001b[0;34m'The MeCab dictionary does not exist at \"%s\". Is the dictionary correctly installed?\\nYou can also try entering the dictionary path when initializing the Mecab class: \"Mecab(\\'/some/dic/path\\')\"'\u001b[0m \u001b[0;34m%\u001b[0m \u001b[0mdicpath\u001b[0m\u001b[0;34m)\u001b[0m\u001b[0;34m\u001b[0m\u001b[0;34m\u001b[0m\u001b[0m\n\u001b[1;32m    111\u001b[0m         \u001b[0;32mexcept\u001b[0m \u001b[0mNameError\u001b[0m\u001b[0;34m:\u001b[0m\u001b[0;34m\u001b[0m\u001b[0;34m\u001b[0m\u001b[0m\n\u001b[0;32m--> 112\u001b[0;31m             \u001b[0;32mraise\u001b[0m \u001b[0mException\u001b[0m\u001b[0;34m(\u001b[0m\u001b[0;34m'Install MeCab in order to use it: http://konlpy.org/en/latest/install/'\u001b[0m\u001b[0;34m)\u001b[0m\u001b[0;34m\u001b[0m\u001b[0;34m\u001b[0m\u001b[0m\n\u001b[0m",
      "\u001b[0;31mException\u001b[0m: Install MeCab in order to use it: http://konlpy.org/en/latest/install/"
     ]
    }
   ],
   "source": [
    "m = Mecab()"
   ]
  },
  {
   "cell_type": "code",
   "execution_count": 55,
   "metadata": {},
   "outputs": [
    {
     "ename": "Exception",
     "evalue": "Install MeCab in order to use it: http://konlpy.org/en/latest/install/",
     "output_type": "error",
     "traceback": [
      "\u001b[0;31m---------------------------------------------------------------------------\u001b[0m",
      "\u001b[0;31mNameError\u001b[0m                                 Traceback (most recent call last)",
      "\u001b[0;32m~/opt/anaconda3/lib/python3.8/site-packages/konlpy/tag/_mecab.py\u001b[0m in \u001b[0;36m__init__\u001b[0;34m(self, dicpath)\u001b[0m\n\u001b[1;32m    106\u001b[0m         \u001b[0;32mtry\u001b[0m\u001b[0;34m:\u001b[0m\u001b[0;34m\u001b[0m\u001b[0;34m\u001b[0m\u001b[0m\n\u001b[0;32m--> 107\u001b[0;31m             \u001b[0mself\u001b[0m\u001b[0;34m.\u001b[0m\u001b[0mtagger\u001b[0m \u001b[0;34m=\u001b[0m \u001b[0mTagger\u001b[0m\u001b[0;34m(\u001b[0m\u001b[0;34m'-d %s'\u001b[0m \u001b[0;34m%\u001b[0m \u001b[0mdicpath\u001b[0m\u001b[0;34m)\u001b[0m\u001b[0;34m\u001b[0m\u001b[0;34m\u001b[0m\u001b[0m\n\u001b[0m\u001b[1;32m    108\u001b[0m             \u001b[0mself\u001b[0m\u001b[0;34m.\u001b[0m\u001b[0mtagset\u001b[0m \u001b[0;34m=\u001b[0m \u001b[0mutils\u001b[0m\u001b[0;34m.\u001b[0m\u001b[0mread_json\u001b[0m\u001b[0;34m(\u001b[0m\u001b[0;34m'%s/data/tagset/mecab.json'\u001b[0m \u001b[0;34m%\u001b[0m \u001b[0mutils\u001b[0m\u001b[0;34m.\u001b[0m\u001b[0minstallpath\u001b[0m\u001b[0;34m)\u001b[0m\u001b[0;34m\u001b[0m\u001b[0;34m\u001b[0m\u001b[0m\n",
      "\u001b[0;31mNameError\u001b[0m: name 'Tagger' is not defined",
      "\nDuring handling of the above exception, another exception occurred:\n",
      "\u001b[0;31mException\u001b[0m                                 Traceback (most recent call last)",
      "\u001b[0;32m<ipython-input-55-fff58a05b7eb>\u001b[0m in \u001b[0;36m<module>\u001b[0;34m\u001b[0m\n\u001b[0;32m----> 1\u001b[0;31m \u001b[0mm\u001b[0m \u001b[0;34m=\u001b[0m \u001b[0mMecab\u001b[0m\u001b[0;34m(\u001b[0m\u001b[0;34m\"-d /usr/local/lib/mecab/dic/mecab-ko-dic\"\u001b[0m\u001b[0;34m)\u001b[0m\u001b[0;34m\u001b[0m\u001b[0;34m\u001b[0m\u001b[0m\n\u001b[0m",
      "\u001b[0;32m~/opt/anaconda3/lib/python3.8/site-packages/konlpy/tag/_mecab.py\u001b[0m in \u001b[0;36m__init__\u001b[0;34m(self, dicpath)\u001b[0m\n\u001b[1;32m    110\u001b[0m             \u001b[0;32mraise\u001b[0m \u001b[0mException\u001b[0m\u001b[0;34m(\u001b[0m\u001b[0;34m'The MeCab dictionary does not exist at \"%s\". Is the dictionary correctly installed?\\nYou can also try entering the dictionary path when initializing the Mecab class: \"Mecab(\\'/some/dic/path\\')\"'\u001b[0m \u001b[0;34m%\u001b[0m \u001b[0mdicpath\u001b[0m\u001b[0;34m)\u001b[0m\u001b[0;34m\u001b[0m\u001b[0;34m\u001b[0m\u001b[0m\n\u001b[1;32m    111\u001b[0m         \u001b[0;32mexcept\u001b[0m \u001b[0mNameError\u001b[0m\u001b[0;34m:\u001b[0m\u001b[0;34m\u001b[0m\u001b[0;34m\u001b[0m\u001b[0m\n\u001b[0;32m--> 112\u001b[0;31m             \u001b[0;32mraise\u001b[0m \u001b[0mException\u001b[0m\u001b[0;34m(\u001b[0m\u001b[0;34m'Install MeCab in order to use it: http://konlpy.org/en/latest/install/'\u001b[0m\u001b[0;34m)\u001b[0m\u001b[0;34m\u001b[0m\u001b[0;34m\u001b[0m\u001b[0m\n\u001b[0m",
      "\u001b[0;31mException\u001b[0m: Install MeCab in order to use it: http://konlpy.org/en/latest/install/"
     ]
    }
   ],
   "source": [
    "m = Mecab(\"-d /usr/local/lib/mecab/dic/mecab-ko-dic\")"
   ]
  },
  {
   "cell_type": "markdown",
   "metadata": {},
   "source": [
    "#### 2.3. 형태소분석기 활용하기\n",
    "\n",
    "---"
   ]
  },
  {
   "cell_type": "code",
   "execution_count": 31,
   "metadata": {},
   "outputs": [
    {
     "name": "stdout",
     "output_type": "stream",
     "text": [
      "['텍스트 데이터는 비정형 데이터에 해당합니다.', '비정형 데이터는 전체 데이터의 80% 정도를 차지합니다.']\n"
     ]
    }
   ],
   "source": [
    "# 1) sentences(TEXT) 함수를 활용해 문단을 문장단위로 분리하여 리스트 형태로 만듭니다.\n",
    "text= \"텍스트 데이터는 비정형 데이터에 해당합니다. 비정형 데이터는 전체 데이터의 80% 정도를 차지합니다.\"\n",
    "sentence_list = kkma.sentences(text)\n",
    "print(sentence_list)"
   ]
  },
  {
   "cell_type": "code",
   "execution_count": 32,
   "metadata": {},
   "outputs": [
    {
     "name": "stdout",
     "output_type": "stream",
     "text": [
      "[('텍스트', 'NNG'), ('데이터', 'NNG'), ('는', 'JX'), ('비정형', 'NNG'), ('데이터', 'NNG'), ('에', 'JKM'), ('해당', 'NNG'), ('하', 'XSV'), ('ㅂ니다', 'EFN'), ('.', 'SF')]\n",
      "[('비정형', 'NNG'), ('데이터', 'NNG'), ('는', 'JX'), ('전체', 'NNG'), ('데이터', 'NNG'), ('의', 'JKG'), ('80', 'NR'), ('%', 'SW'), ('정도', 'NNG'), ('를', 'JKO'), ('차지', 'NNG'), ('하', 'XSV'), ('ㅂ니다', 'EFN'), ('.', 'SF')]\n"
     ]
    }
   ],
   "source": [
    "# 2) pos(TEXT) 함수를 활용해 문장을 형태소 단위로 분리하여 리스트 형태로 만듭니다.\n",
    "for sentence in sentence_list:\n",
    "    pos_list = kkma.pos(sentence)\n",
    "    print(pos_list)"
   ]
  },
  {
   "cell_type": "code",
   "execution_count": 33,
   "metadata": {},
   "outputs": [
    {
     "name": "stdout",
     "output_type": "stream",
     "text": [
      "['텍스트', '데이터', '비정형', '해당']\n",
      "['비정형', '데이터', '전체', '80', '정도', '차지']\n"
     ]
    }
   ],
   "source": [
    "# 2) nouns(TEXT) 함수를 활용해 문장을 형태소 단위로 분리하고 명사(NNG, NNP)만 리스트 형태로 만듭니다.\n",
    "for sentence in sentence_list:\n",
    "    pos_list = kkma.nouns(sentence)\n",
    "    print(pos_list)"
   ]
  },
  {
   "cell_type": "code",
   "execution_count": null,
   "metadata": {},
   "outputs": [],
   "source": []
  }
 ],
 "metadata": {
  "kernelspec": {
   "display_name": "Python 3",
   "language": "python",
   "name": "python3"
  },
  "language_info": {
   "codemirror_mode": {
    "name": "ipython",
    "version": 3
   },
   "file_extension": ".py",
   "mimetype": "text/x-python",
   "name": "python",
   "nbconvert_exporter": "python",
   "pygments_lexer": "ipython3",
   "version": "3.8.3"
  }
 },
 "nbformat": 4,
 "nbformat_minor": 2
}
