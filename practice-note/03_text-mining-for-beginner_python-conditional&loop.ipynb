{
 "cells": [
  {
   "cell_type": "markdown",
   "metadata": {},
   "source": [
    "# TEXT MINING for BEGINNER\n",
    "- 본 자료는 텍스트 마이닝을 활용한 연구 및 강의를 위한 목적으로 제작되었습니다.\n",
    "- 본 자료를 강의 목적으로 활용하고자 하시는 경우 꼭 아래 메일주소로 연락주세요.\n",
    "- 본 자료에 대한 허가되지 않은 배포를 금지합니다.\n",
    "- 강의, 저작권, 출판, 특허, 공동저자에 관련해서는 문의 바랍니다.\n",
    "- **Contact : ADMIN(admin@teanaps.com)**\n",
    "\n",
    "---"
   ]
  },
  {
   "cell_type": "markdown",
   "metadata": {},
   "source": [
    "## DAY 03. Python 조건문과 반복문 다루기\n",
    "- Python에서 조건문과 반복문을 다루는 방법에 대해 다룹니다.\n",
    "\n",
    "---"
   ]
  },
  {
   "cell_type": "markdown",
   "metadata": {},
   "source": [
    "### 1. 조건문 다루기: IF 문\n",
    "\n",
    "---"
   ]
  },
  {
   "cell_type": "markdown",
   "metadata": {},
   "source": [
    "#### 1.1. IF 문: 특정 조건이  참(True)인 경우에만  명령어를 실행합니다.\n",
    "\n",
    "---"
   ]
  },
  {
   "cell_type": "code",
   "execution_count": 1,
   "metadata": {},
   "outputs": [
    {
     "name": "stdout",
     "output_type": "stream",
     "text": [
      "a : 5\n",
      "b : 3\n"
     ]
    }
   ],
   "source": [
    "a = 5\n",
    "b = 3\n",
    "print(\"a :\", a)\n",
    "print(\"b :\", b)"
   ]
  },
  {
   "cell_type": "code",
   "execution_count": 2,
   "metadata": {},
   "outputs": [
    {
     "name": "stdout",
     "output_type": "stream",
     "text": [
      "(조건)이 True인 경우에만 실행됩니다.\n"
     ]
    }
   ],
   "source": [
    "# 1) 조건문은 if + (조건): 구조를 가집니다.\n",
    "if a > b:\n",
    "    print(\"(조건)이 True인 경우에만 실행됩니다.\")"
   ]
  },
  {
   "cell_type": "code",
   "execution_count": 3,
   "metadata": {},
   "outputs": [
    {
     "name": "stdout",
     "output_type": "stream",
     "text": [
      "(조건)이 True인 경우에만 실행됩니다.\n"
     ]
    }
   ],
   "source": [
    "# 2-1) IF 문의 (조건)에는 True 또는 False 값을 가지는 연산자를 활용한 수식이 들어갑니다.\n",
    "if 5 > 3:\n",
    "    print(\"(조건)이 True인 경우에만 실행됩니다.\")"
   ]
  },
  {
   "cell_type": "code",
   "execution_count": 4,
   "metadata": {},
   "outputs": [
    {
     "name": "stdout",
     "output_type": "stream",
     "text": [
      "(조건)이 True인 경우에만 실행됩니다.\n"
     ]
    }
   ],
   "source": [
    "# 2-2) IF 문의 (조건)이 True이면, 아래 탭(\\t)으로 들여쓴 명령어가 실행됩니다.\n",
    "if True:\n",
    "    print(\"(조건)이 True인 경우에만 실행됩니다.\")"
   ]
  },
  {
   "cell_type": "code",
   "execution_count": 5,
   "metadata": {},
   "outputs": [
    {
     "name": "stdout",
     "output_type": "stream",
     "text": [
      "이부분 부터는 IF 문에 해당하지 않습니다.\n"
     ]
    }
   ],
   "source": [
    "# 2-3) IF 문의 (조건)이 False이면, 아래 탭(\\t)으로 들여쓴 부분은 무시됩니다.\n",
    "if False:\n",
    "    print(\"(조건)이 True인 경우에만 실행됩니다.\")\n",
    "print(\"이부분 부터는 IF 문에 해당하지 않습니다.\")"
   ]
  },
  {
   "cell_type": "code",
   "execution_count": 6,
   "metadata": {},
   "outputs": [
    {
     "name": "stdout",
     "output_type": "stream",
     "text": [
      "5 는 3 보다 큽니다.\n"
     ]
    }
   ],
   "source": [
    "# 3-1) 조건문에 elif + (조건): 구조를 추가하여 조건을 추가할 수 있습니다.\n",
    "if a < b:\n",
    "    print(a, \"는\", b, \"보다 작습니다.\")\n",
    "elif a > b:\n",
    "    print(a, \"는\", b, \"보다 큽니다.\")"
   ]
  },
  {
   "cell_type": "code",
   "execution_count": 7,
   "metadata": {},
   "outputs": [
    {
     "name": "stdout",
     "output_type": "stream",
     "text": [
      "a : 5\n",
      "b : 5\n"
     ]
    }
   ],
   "source": [
    "a = 5\n",
    "b = 5\n",
    "print(\"a :\", a)\n",
    "print(\"b :\", b)"
   ]
  },
  {
   "cell_type": "code",
   "execution_count": 8,
   "metadata": {},
   "outputs": [
    {
     "name": "stdout",
     "output_type": "stream",
     "text": [
      "5 와(과) 5 는 같습니다.\n"
     ]
    }
   ],
   "source": [
    "# 3-2) 조건문의 elif + (조건): 구조는 여러개 제한없이 추가할 수 있습니다.\n",
    "if a < b:\n",
    "    print(a, \"은(는)\", b, \"보다 작습니다.\")\n",
    "elif a > b:\n",
    "    print(a, \"은(는)\", b, \"보다 큽니다.\")\n",
    "elif a == b:\n",
    "    print(a, \"와(과)\", b, \"는 같습니다.\")"
   ]
  },
  {
   "cell_type": "code",
   "execution_count": 9,
   "metadata": {},
   "outputs": [
    {
     "name": "stdout",
     "output_type": "stream",
     "text": [
      "5 와(과) 5 는 같습니다.\n"
     ]
    }
   ],
   "source": [
    "# 4) 조건문에 else: 구조를 추가하여 위 (조건)이 모두 만족하지 않는 경우에 명령어를 실행할 수 있습니다.\n",
    "if a < b:\n",
    "    print(a, \"은(는)\", b, \"보다 작습니다.\")\n",
    "elif a > b:\n",
    "    print(a, \"은(는)\", b, \"보다 큽니다.\")\n",
    "else:\n",
    "    print(a, \"와(과)\", b, \"는 같습니다.\")"
   ]
  },
  {
   "cell_type": "markdown",
   "metadata": {},
   "source": [
    "#### 1.2. 중첩 IF 문: IF 문을 여러번 반복해서 조건이  참(True)인 경우에만  명령어를 실행합니다.\n",
    "\n",
    "---"
   ]
  },
  {
   "cell_type": "code",
   "execution_count": 10,
   "metadata": {},
   "outputs": [
    {
     "name": "stdout",
     "output_type": "stream",
     "text": [
      "a : 3\n",
      "b : 8\n",
      "c : 1\n"
     ]
    }
   ],
   "source": [
    "a = 3\n",
    "b = 8\n",
    "c = 1\n",
    "print(\"a :\", a)\n",
    "print(\"b :\", b)\n",
    "print(\"c :\", c)"
   ]
  },
  {
   "cell_type": "code",
   "execution_count": 11,
   "metadata": {},
   "outputs": [
    {
     "name": "stdout",
     "output_type": "stream",
     "text": [
      "1 이(가) 가장 작은 숫자입니다.\n"
     ]
    }
   ],
   "source": [
    "# 1-1) IF 문의 (조건)에는 논리연산자를 활용해 여러가지 조건을 넣을 수 있습니다.\n",
    "if a > c and b > c:\n",
    "    print(c, \"이(가) 가장 작은 숫자입니다.\")\n",
    "else:\n",
    "    print(c, \"은(는) 가장 작은 숫자가 아닙니다.\")"
   ]
  },
  {
   "cell_type": "code",
   "execution_count": 12,
   "metadata": {},
   "outputs": [
    {
     "name": "stdout",
     "output_type": "stream",
     "text": [
      "1 이(가) 가장 작은 숫자입니다.\n"
     ]
    }
   ],
   "source": [
    "# 1-2) IF 문을 중첩해서 활용해 논리연산자를 활용한 것과 동일한 조건을 만들 수 있습니다.\n",
    "if a > c:\n",
    "    if b > c:\n",
    "        print(c, \"이(가) 가장 작은 숫자입니다.\")\n",
    "else:\n",
    "    print(c, \"은(는) 가장 작은 숫자가 아닙니다.\")"
   ]
  },
  {
   "cell_type": "code",
   "execution_count": 13,
   "metadata": {},
   "outputs": [
    {
     "name": "stdout",
     "output_type": "stream",
     "text": [
      "a : 2\n",
      "b : 5\n",
      "c : 10\n"
     ]
    }
   ],
   "source": [
    "a = 2\n",
    "b = 5\n",
    "c = 10\n",
    "print(\"a :\", a)\n",
    "print(\"b :\", b)\n",
    "print(\"c :\", c)"
   ]
  },
  {
   "cell_type": "code",
   "execution_count": 14,
   "metadata": {},
   "outputs": [
    {
     "name": "stdout",
     "output_type": "stream",
     "text": [
      "2 은(는) 10 보다 작습니다.\n",
      "5 은(는) 10 보다 작습니다.\n"
     ]
    }
   ],
   "source": [
    "# 1-3) IF 문을 중첩해서 활용하는 경우 탭(\\t) 단위 들어쓰기를 통해 elif 또는 else 구조를 잘 구분해야합니다.\n",
    "if a < c:\n",
    "    print(a, \"은(는)\", c, \"보다 작습니다.\")\n",
    "    if b > c:\n",
    "        print(b, \"은(는)\", c, \"보다 큽니다.\")\n",
    "    else:\n",
    "        print(b, \"은(는)\", c, \"보다 작습니다.\") \n",
    "else:\n",
    "    print(a, \"은(는)\", c, \"보다 큽니다.\")"
   ]
  },
  {
   "cell_type": "markdown",
   "metadata": {},
   "source": [
    "### 2. 반복문 다루기: FOR 문\n",
    "\n",
    "---"
   ]
  },
  {
   "cell_type": "code",
   "execution_count": 15,
   "metadata": {},
   "outputs": [
    {
     "name": "stdout",
     "output_type": "stream",
     "text": [
      "0 1 2 5 "
     ]
    }
   ],
   "source": [
    "# 1) FOR 문은 for + (반복할 변수) + in + (반복할 값이 저장된 리스트): 구조를 가집니다.\n",
    "for i in [0, 1, 2, 5]:\n",
    "    print(i, end=\" \")"
   ]
  },
  {
   "cell_type": "code",
   "execution_count": 16,
   "metadata": {},
   "outputs": [
    {
     "name": "stdout",
     "output_type": "stream",
     "text": [
      "0 1 2 3 4 5 6 7 8 9 "
     ]
    }
   ],
   "source": [
    "# 2-1) FOR 문의 (반복할 값이 저장된 리스트)를 대신해 range(NUM) 함수를 사용할 수 있습니다.\n",
    "for i in range(10):\n",
    "    print(i, end=\" \")"
   ]
  },
  {
   "cell_type": "code",
   "execution_count": 17,
   "metadata": {},
   "outputs": [
    {
     "name": "stdout",
     "output_type": "stream",
     "text": [
      "[0, 1, 2, 3, 4, 5, 6, 7, 8, 9]\n"
     ]
    }
   ],
   "source": [
    "# 2-2) range(NUM) 함수는 NUM 까지 숫자가 포함된 리스트를 불러옵니다. (리스트 자료구조는 아닙니다.)\n",
    "print(list(range(10)))"
   ]
  },
  {
   "cell_type": "code",
   "execution_count": 18,
   "metadata": {},
   "outputs": [
    {
     "name": "stdout",
     "output_type": "stream",
     "text": [
      "0 1 2 3 4 5 6 7 8 9 "
     ]
    }
   ],
   "source": [
    "for i in range(10):\n",
    "    print(i, end=\" \")"
   ]
  },
  {
   "cell_type": "code",
   "execution_count": 19,
   "metadata": {},
   "outputs": [
    {
     "name": "stdout",
     "output_type": "stream",
     "text": [
      "[5, 6, 7, 8, 9]\n"
     ]
    }
   ],
   "source": [
    "# 2-3) range(NUM) 함수에 변수를 두 개 입력하면, N부터 M까지 숫자가 포함된 리스트를 불러옵니다.\n",
    "print(list(range(5, 10)))"
   ]
  },
  {
   "cell_type": "code",
   "execution_count": 20,
   "metadata": {},
   "outputs": [
    {
     "name": "stdout",
     "output_type": "stream",
     "text": [
      "5 6 7 8 9 "
     ]
    }
   ],
   "source": [
    "for i in range(5, 10):\n",
    "    print(i, end=\" \")"
   ]
  },
  {
   "cell_type": "code",
   "execution_count": 21,
   "metadata": {},
   "outputs": [
    {
     "name": "stdout",
     "output_type": "stream",
     "text": [
      "[0, 3, 6, 9]\n"
     ]
    }
   ],
   "source": [
    "# 2-3) range(NUM) 함수에 변수를 세 개 입력하면, N부터 M까지 K만큼 증가하는 리스트를 불러옵니다.\n",
    "print(list(range(0, 10, 3)))"
   ]
  },
  {
   "cell_type": "code",
   "execution_count": 22,
   "metadata": {},
   "outputs": [
    {
     "name": "stdout",
     "output_type": "stream",
     "text": [
      "0 3 6 9 "
     ]
    }
   ],
   "source": [
    "for i in range(0, 10, 3):\n",
    "    print(i, end=\" \")"
   ]
  },
  {
   "cell_type": "code",
   "execution_count": 23,
   "metadata": {},
   "outputs": [
    {
     "name": "stdout",
     "output_type": "stream",
     "text": [
      "3 4 5 6 7 8 9 \n",
      "3 5 7 9 \n",
      "3 6 9 \n"
     ]
    }
   ],
   "source": [
    "# 3) FOR 문을 중첩해서 활용해 다양한 패턴의 출력을 만들 수 있습니다.\n",
    "for i in range(1, 4):\n",
    "    for j in range(3, 10, i):\n",
    "        print(j, end=\" \")\n",
    "    print()"
   ]
  },
  {
   "cell_type": "markdown",
   "metadata": {},
   "source": [
    "### 2. 반복문 다루기: WHILE 문\n",
    "\n",
    "---"
   ]
  },
  {
   "cell_type": "code",
   "execution_count": 24,
   "metadata": {},
   "outputs": [
    {
     "name": "stdout",
     "output_type": "stream",
     "text": [
      "0 1 2 3 4 "
     ]
    }
   ],
   "source": [
    "# 1) WHILE 문은 while + (조건): 구조를 가지며, (조건)이 참(True)인 경우 계속 아래 탭(\\t)으로 들여쓴 명령어가 실행됩니다.\n",
    "a = 0\n",
    "while a < 5:\n",
    "    print(a, end=\" \")\n",
    "    a += 1"
   ]
  },
  {
   "cell_type": "code",
   "execution_count": 25,
   "metadata": {
    "collapsed": true
   },
   "outputs": [],
   "source": [
    "# 2) WHILE 문은 활용할 때에는 반드시 (조건)이 False가 될 경우의 수를 확인해야합니다. (무한루프 주의)\n",
    "#while True:\n",
    "#    print(a, end=\" \")\n",
    "#    a += 1"
   ]
  },
  {
   "cell_type": "markdown",
   "metadata": {},
   "source": [
    "### 3. 조건문과 반복문 응용하기: CONTINUE와 BREAK\n",
    "\n",
    "---"
   ]
  },
  {
   "cell_type": "markdown",
   "metadata": {},
   "source": [
    "##### 2.3. continue와 break 명령어 활용하기\n",
    "```\n",
    "- 조건문과 반복을 중첩하여 활용할 때 다음 다음 루프로 넘어가거나 반복을 강제로 종료해야할 때 활용됩니다\n",
    "- continue : 다음 루프로 넘어갑니다\n",
    "- break : 루프를 종료합니다\n",
    "```"
   ]
  },
  {
   "cell_type": "code",
   "execution_count": 26,
   "metadata": {},
   "outputs": [
    {
     "name": "stdout",
     "output_type": "stream",
     "text": [
      "0 1 2 3 4 6 7 8 9 "
     ]
    }
   ],
   "source": [
    "# 1) continue 명령어를 활용하면 아래 명령어를 무시하고 FOR 문의 다음 루프로 넘어갑니다.\n",
    "for i in range(10):\n",
    "    if i == 5:\n",
    "        continue\n",
    "    print(i, end=\" \")"
   ]
  },
  {
   "cell_type": "code",
   "execution_count": 27,
   "metadata": {},
   "outputs": [
    {
     "name": "stdout",
     "output_type": "stream",
     "text": [
      "0 1 2 3 4 5 6 "
     ]
    }
   ],
   "source": [
    "# 2) break 명령어를 활용하면 아래 명령어와 진행중인 FOR 문을 무시하고 종료합니다.\n",
    "for i in range(10):\n",
    "    if i == 7:\n",
    "        break\n",
    "    print(i, end=\" \")"
   ]
  },
  {
   "cell_type": "code",
   "execution_count": 28,
   "metadata": {},
   "outputs": [
    {
     "name": "stdout",
     "output_type": "stream",
     "text": [
      "0 1 2 3 4 6 "
     ]
    }
   ],
   "source": [
    "# 1) + 2)\n",
    "for i in range(10):\n",
    "    if i == 5:\n",
    "        continue\n",
    "    elif i == 7:\n",
    "        break\n",
    "    print(i, end=\" \")"
   ]
  }
 ],
 "metadata": {
  "kernelspec": {
   "display_name": "Python 3",
   "language": "python",
   "name": "python3"
  },
  "language_info": {
   "codemirror_mode": {
    "name": "ipython",
    "version": 3
   },
   "file_extension": ".py",
   "mimetype": "text/x-python",
   "name": "python",
   "nbconvert_exporter": "python",
   "pygments_lexer": "ipython3",
   "version": "3.8.3"
  }
 },
 "nbformat": 4,
 "nbformat_minor": 2
}
