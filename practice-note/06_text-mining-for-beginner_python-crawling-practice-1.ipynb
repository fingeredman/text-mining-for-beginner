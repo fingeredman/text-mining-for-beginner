{
 "cells": [
  {
   "cell_type": "markdown",
   "metadata": {},
   "source": [
    "# TEXT MINING for BEGINNER\n",
    "- 본 자료는 텍스트 마이닝을 활용한 연구 및 강의를 위한 목적으로 제작되었습니다.\n",
    "- 본 자료를 강의 목적으로 활용하고자 하시는 경우 꼭 아래 메일주소로 연락주세요.\n",
    "- 본 자료에 대한 허가되지 않은 배포를 금지합니다.\n",
    "- 강의, 저작권, 출판, 특허, 공동저자에 관련해서는 문의 바랍니다.\n",
    "- **Contact : 전병진(fingeredman@gmail.com)**\n",
    "\n",
    "---"
   ]
  },
  {
   "cell_type": "markdown",
   "metadata": {},
   "source": [
    "## DAY 06. 정적 페이지 수집하기: 실시간 검색어, 영화댓글\n",
    "- Python을 활용해 단순한 웹페이지에서 데이터를 크롤링하는 방법에 대해 다룹니다.\n",
    "\n",
    "---"
   ]
  },
  {
   "cell_type": "markdown",
   "metadata": {},
   "source": [
    "> **\\*\\*\\* 주의사항 \\*\\*\\***  \n",
    "본 자료에서 설명하는 웹크롤링하는 방법은 해당 기법에 대한 이해를 돕고자하는 교육의 목적으로 사용되었으며,  \n",
    "이를 활용한 대량의 무단 크롤링은 범죄에 해당할 수 있음을 알려드립니다."
   ]
  },
  {
   "cell_type": "markdown",
   "metadata": {},
   "source": [
    "### 1. 네이버 실시간 검색어 가져오기\n",
    "\n",
    "---"
   ]
  },
  {
   "cell_type": "markdown",
   "metadata": {},
   "source": [
    "> ####  정적 페이지 크롤링 과정\n",
    "> 1. 진짜 URL 찾기  \n",
    "2. urllib 패키지를 활용해 URL 호출하기\n",
    "3. BeautifulSoup과 HtmlParser 패키지로 URL 호출 응답 불러오기\n",
    "4. 불러온 페이지에 원하는 내용이 포함되어있는지 PRINT 문으로 확인하기 - 포함되어 있지 않으면 1번부터 다시시작!\n",
    "5. Chrome 브라우저 [메뉴] > [도구 더보기] > [개발자도구] 메뉴를 통해 원하는 내용이 포함된 태그 확인 후 호출\n",
    "6. 가져온 데이터 정리해서 파일에 저장하기"
   ]
  },
  {
   "cell_type": "code",
   "execution_count": 1,
   "metadata": {
    "collapsed": true
   },
   "outputs": [],
   "source": [
    "# Python 코드를 통해 웹페이지에 정보를 요청하기 위해 BeautifulSoup, urllib 패키지를 import 합니다.\n",
    "from bs4 import BeautifulSoup \n",
    "import urllib"
   ]
  },
  {
   "cell_type": "code",
   "execution_count": 2,
   "metadata": {
    "collapsed": true
   },
   "outputs": [],
   "source": [
    "# 1. 진짜 URL 찾기\n",
    "# 네이버 실시간 검색어가 포함된 페이지는 네이버 메인페이지에 해당합니다.\n",
    "URL = 'http://www.naver.com'"
   ]
  },
  {
   "cell_type": "code",
   "execution_count": 3,
   "metadata": {
    "collapsed": true
   },
   "outputs": [],
   "source": [
    "# 2. urllib 패키지를 활용해 URL 호출하기\n",
    "# 네이버 메인페이지 URL을 호출합니다.\n",
    "page = urllib.request.urlopen(URL)"
   ]
  },
  {
   "cell_type": "code",
   "execution_count": 4,
   "metadata": {
    "collapsed": true
   },
   "outputs": [],
   "source": [
    "# 3. BeautifulSoup과 HtmlParser 패키지로 URL 호출 응답 불러오기\n",
    "soup = BeautifulSoup(page, \"html.parser\")"
   ]
  },
  {
   "cell_type": "code",
   "execution_count": 5,
   "metadata": {
    "collapsed": true
   },
   "outputs": [],
   "source": [
    "# 4. 불러온 페이지에 원하는 내용이 포함되어있는지 PRINT 문으로 확인하기\n",
    "# PRINT 문을 활용해 불러온 웹페이지 내용을 출력합니다.\n",
    "\n",
    "#print(soup)"
   ]
  },
  {
   "cell_type": "code",
   "execution_count": 6,
   "metadata": {
    "collapsed": true
   },
   "outputs": [],
   "source": [
    "# Ctrl + F 단축키를 통해 현재 네이버 실시간 검색어 중 하나를 검색해 출력한 웹페이지 내용에 존재하는지 확인합니다.\n",
    "# 아래 예시는 \"런닝맨\"이 실시간 검색어 19위에 있음을 보여줍니다."
   ]
  },
  {
   "cell_type": "markdown",
   "metadata": {},
   "source": [
    "~~~html\n",
    "<li class=\"ah_item\" data-order=\"19\">\n",
    "  <a class=\"ah_a\" data-clk=\"lve.keyword\" data-ssl=\"https://search.naver.com/search.naver?where=nexearch&amp;query=%EB%9F%B0%EB%8B%9D%EB%A7%A8&amp;sm=top_lve&amp;ie=utf8\" href=\"http://search.naver.com/search.naver?where=nexearch&amp;query=%EB%9F%B0%EB%8B%9D%EB%A7%A8&amp;sm=top_lve&amp;ie=utf8\">\n",
    "    <span class=\"ah_r\">19</span>\n",
    "    <span class=\"ah_k\">런닝맨</span>\n",
    "  </a>\n",
    "  <a class=\"ah_da\" data-clk=\"lve.kwdhistory\" href=\"http://datalab.naver.com/keyword/realtimeDetail.naver?datetime=2019-06-03T04:45:00&amp;query=%EB%9F%B0%EB%8B%9D%EB%A7%A8&amp;where=main\">\n",
    "    <span class=\"blind\">데이터랩 그래프 보기</span>\n",
    "    <span class=\"ah_ico_datagraph\"></span>\n",
    "  </a>\n",
    "</li>\n",
    "~~~"
   ]
  },
  {
   "cell_type": "code",
   "execution_count": 7,
   "metadata": {
    "collapsed": true
   },
   "outputs": [],
   "source": [
    "# 5. Chrome 브라우저 [메뉴] > [도구 더보기] > [개발자도구] 메뉴를 통해 원하는 내용이 포함된 태그 확인 후 호출\n",
    "# 위 웹페이지 예시에서 \"런닝맨\" 텍스트는 아래와 같이 <span> 태그로 둘러쌓여 있습니다.\n",
    "# <span> 태그의 class 속성을 활용해 해당 태그만 가져올 수 있습니다."
   ]
  },
  {
   "cell_type": "markdown",
   "metadata": {},
   "source": [
    "~~~html\n",
    "<span class=\"ah_k\">런닝맨</span>\n",
    "~~~"
   ]
  },
  {
   "cell_type": "code",
   "execution_count": 8,
   "metadata": {},
   "outputs": [
    {
     "name": "stdout",
     "output_type": "stream",
     "text": [
      "<span class=\"ah_k\">권다미</span>\n"
     ]
    }
   ],
   "source": [
    "# 5-1) 태그이름과 class 속성으로 해당 태그를 가져옵니다.\n",
    "tag_name = \"span\"\n",
    "class_name = \"ah_k\"\n",
    "keyword = soup.find(tag_name, {'class': class_name,})\n",
    "print(keyword)"
   ]
  },
  {
   "cell_type": "code",
   "execution_count": 9,
   "metadata": {
    "collapsed": true
   },
   "outputs": [],
   "source": [
    "# 5-2) 동일한 태그이름과 class 속성을 가진 태그를 모두 가져옵니다.\n",
    "# find 함수 대신 findAll 함수를 활용합니다.\n",
    "tag_name = \"span\"\n",
    "class_name = \"ah_k\"\n",
    "keyword_list = soup.findAll(tag_name, {'class': class_name,})"
   ]
  },
  {
   "cell_type": "code",
   "execution_count": 10,
   "metadata": {},
   "outputs": [
    {
     "name": "stdout",
     "output_type": "stream",
     "text": [
      "<span class=\"ah_k\">권다미</span>\n",
      "<span class=\"ah_k\">66특가로 입어봐</span>\n",
      "<span class=\"ah_k\">진아름</span>\n",
      "<span class=\"ah_k\">티몬데이</span>\n",
      "<span class=\"ah_k\">나인오</span>\n",
      "<span class=\"ah_k\">대탈출 시즌2</span>\n",
      "<span class=\"ah_k\">김민준</span>\n",
      "<span class=\"ah_k\">원피스 887화 애니</span>\n",
      "<span class=\"ah_k\">아스날 연대기</span>\n",
      "<span class=\"ah_k\">호구의 연애</span>\n",
      "<span class=\"ah_k\">lpga 실시간스코어</span>\n",
      "<span class=\"ah_k\">스파이더맨2</span>\n",
      "<span class=\"ah_k\">한국 일본</span>\n",
      "<span class=\"ah_k\">아스달 연대기</span>\n",
      "<span class=\"ah_k\">고준</span>\n",
      "<span class=\"ah_k\">동방우</span>\n",
      "<span class=\"ah_k\">박병은</span>\n",
      "<span class=\"ah_k\">일출시간</span>\n",
      "<span class=\"ah_k\">슈퍼맨이돌아왔다</span>\n",
      "<span class=\"ah_k\">보이스 시즌3</span>\n"
     ]
    }
   ],
   "source": [
    "for keyword in keyword_list[:20]:\n",
    "    print(keyword)"
   ]
  },
  {
   "cell_type": "code",
   "execution_count": 11,
   "metadata": {
    "scrolled": true
   },
   "outputs": [
    {
     "name": "stdout",
     "output_type": "stream",
     "text": [
      "권다미\n",
      "66특가로 입어봐\n",
      "진아름\n",
      "티몬데이\n",
      "나인오\n",
      "대탈출 시즌2\n",
      "김민준\n",
      "원피스 887화 애니\n",
      "아스날 연대기\n",
      "호구의 연애\n",
      "lpga 실시간스코어\n",
      "스파이더맨2\n",
      "한국 일본\n",
      "아스달 연대기\n",
      "고준\n",
      "동방우\n",
      "박병은\n",
      "일출시간\n",
      "슈퍼맨이돌아왔다\n",
      "보이스 시즌3\n"
     ]
    }
   ],
   "source": [
    "# 태그가 저장된 변수에 get_text() 함수를 활용하면 태그로 둘러쌓인 텍스트만 가져올 수 있습니다.\n",
    "for keyword in keyword_list[:20]:\n",
    "    print(keyword.get_text())"
   ]
  },
  {
   "cell_type": "code",
   "execution_count": 12,
   "metadata": {
    "collapsed": true
   },
   "outputs": [],
   "source": [
    "# 6. 가져온 데이터 정리해서 파일에 저장하기\n",
    "# 새로운 파일을 생성해서 실시간 검색어를 저장합니다.\n",
    "f = open(\"naver_search.txt\", \"w\", encoding=\"utf-8\")\n",
    "for keyword in keyword_list[:20]:\n",
    "    text = keyword.get_text()\n",
    "    f.write(text + '\\n')\n",
    "f.close()"
   ]
  },
  {
   "cell_type": "code",
   "execution_count": 13,
   "metadata": {},
   "outputs": [
    {
     "name": "stdout",
     "output_type": "stream",
     "text": [
      "권다미\n",
      "66특가로 입어봐\n",
      "진아름\n",
      "티몬데이\n",
      "나인오\n",
      "대탈출 시즌2\n",
      "김민준\n",
      "원피스 887화 애니\n",
      "아스날 연대기\n",
      "호구의 연애\n",
      "lpga 실시간스코어\n",
      "스파이더맨2\n",
      "한국 일본\n",
      "아스달 연대기\n",
      "고준\n",
      "동방우\n",
      "박병은\n",
      "일출시간\n",
      "슈퍼맨이돌아왔다\n",
      "보이스 시즌3\n"
     ]
    }
   ],
   "source": [
    "# 파일에 저장된 실시간 검색어를 불러옵니다.\n",
    "f = open(\"naver_search.txt\", encoding=\"utf-8\")\n",
    "for keyword in f:\n",
    "    print(keyword.strip())\n",
    "f.close()"
   ]
  },
  {
   "cell_type": "markdown",
   "metadata": {},
   "source": [
    "### 2. 네이버 영화댓글 가져오기\n",
    "\n",
    "---"
   ]
  },
  {
   "cell_type": "code",
   "execution_count": 14,
   "metadata": {
    "collapsed": true
   },
   "outputs": [],
   "source": [
    "# Python 코드를 통해 웹페이지에 정보를 요청하기 위해 BeautifulSoup, urllib 패키지를 import 합니다.\n",
    "from bs4 import BeautifulSoup \n",
    "import urllib"
   ]
  },
  {
   "cell_type": "code",
   "execution_count": 15,
   "metadata": {
    "collapsed": true
   },
   "outputs": [],
   "source": [
    "# 1. 진짜 URL 찾기\n",
    "# 네이버 영화댓글이 포함된 페이지의 URL을 가져옵니다.\n",
    "URL = \"https://movie.naver.com/movie/bi/mi/point.nhn?code=136900#tab\""
   ]
  },
  {
   "cell_type": "code",
   "execution_count": 16,
   "metadata": {
    "collapsed": true
   },
   "outputs": [],
   "source": [
    "# 2. urllib 패키지를 활용해 URL 호출하기\n",
    "# 네이버 영화댓글 페이지 URL을 호출합니다.\n",
    "page = urllib.request.urlopen(URL)"
   ]
  },
  {
   "cell_type": "code",
   "execution_count": 17,
   "metadata": {
    "collapsed": true
   },
   "outputs": [],
   "source": [
    "# 3. BeautifulSoup과 HtmlParser 패키지로 URL 호출 응답 불러오기\n",
    "soup = BeautifulSoup(page, \"html.parser\")"
   ]
  },
  {
   "cell_type": "code",
   "execution_count": 18,
   "metadata": {
    "collapsed": true
   },
   "outputs": [],
   "source": [
    "# 4. 불러온 페이지에 원하는 내용이 포함되어있는지 PRINT 문으로 확인하기\n",
    "# PRINT 문을 활용해 불러온 웹페이지 내용을 출력합니다.\n",
    "\n",
    "#print(soup)"
   ]
  },
  {
   "cell_type": "code",
   "execution_count": 19,
   "metadata": {
    "collapsed": true
   },
   "outputs": [],
   "source": [
    "# Ctrl + F 단축키를 통해 댓글 중 하나의 일부 또는 전체를 검색해 출력한 웹페이지 내용에 존재하는지 확인합니다.\n",
    "# 해당 웹페이지 내용에 댓글이 존재하지 않습니다.\n",
    "# 다시 \"1.진짜 URL 찾기\" 과정으로 돌아갑니다."
   ]
  },
  {
   "cell_type": "code",
   "execution_count": 20,
   "metadata": {
    "collapsed": true
   },
   "outputs": [],
   "source": [
    "# 1. 진짜 URL 찾기\n",
    "# 네이버 영화댓글이 포함된 페이지의 URL을 가져옵니다.\n",
    "URL = \"https://movie.naver.com/movie/bi/mi/pointWriteFormList.nhn?code=136900&type=after&isActualPointWriteExecute=false&isMileageSubscriptionAlready=false&isMileageSubscriptionReject=false&page=1\""
   ]
  },
  {
   "cell_type": "code",
   "execution_count": 21,
   "metadata": {
    "collapsed": true
   },
   "outputs": [],
   "source": [
    "# 2. urllib 패키지를 활용해 URL 호출하기\n",
    "# 네이버 영화댓글 페이지 URL을 호출합니다.\n",
    "page = urllib.request.urlopen(URL)"
   ]
  },
  {
   "cell_type": "code",
   "execution_count": 22,
   "metadata": {
    "collapsed": true
   },
   "outputs": [],
   "source": [
    "# 3. BeautifulSoup과 HtmlParser 패키지로 URL 호출 응답 불러오기\n",
    "soup = BeautifulSoup(page, \"html.parser\")"
   ]
  },
  {
   "cell_type": "code",
   "execution_count": 23,
   "metadata": {
    "collapsed": true
   },
   "outputs": [],
   "source": [
    "# 4. 불러온 페이지에 원하는 내용이 포함되어있는지 PRINT 문으로 확인하기\n",
    "# PRINT 문을 활용해 불러온 웹페이지 내용을 출력합니다.\n",
    "\n",
    "#print(soup)"
   ]
  },
  {
   "cell_type": "markdown",
   "metadata": {},
   "source": [
    "~~~html\n",
    "<div class=\"score_reple\">\n",
    "  <p>마블 3000만큼 사랑합니다  </p>\n",
    "  <dl>\n",
    "    <dt>\n",
    "      <em>\n",
    "        <a href=\"#\" onclick=\"javascript:showPointListByNid(15535812, 'after');parent.clickcr(this, 'ara.uid', '', '', event); return false;\" target=\"_top\">\n",
    "          <span>전은호(eunh****)</span>\n",
    "        </a>\n",
    "      </em>\n",
    "      <em>2019.04.24 10:31</em>\n",
    "    </dt>\n",
    "    <dd>\n",
    "      <a class=\"go_report2\" href=\"#\" onclick=\"parent.clickcr(this, 'ara.report', '', '', event); common.report('false','eunh****', 'uv551WV2CAQ0fZUWTaiFpIb20w73doxxmi6uj3BLyPs=', '마블 3000만큼 사랑합니다 ', '15535812', 'point_after', false);return false;\"><em>신고</em></a>\n",
    "    </dd>\n",
    "  </dl>\n",
    "</div>\n",
    "~~~"
   ]
  },
  {
   "cell_type": "code",
   "execution_count": 24,
   "metadata": {
    "collapsed": true
   },
   "outputs": [],
   "source": [
    "# 5. Chrome 브라우저 [메뉴] > [도구 더보기] > [개발자도구] 메뉴를 통해 원하는 내용이 포함된 태그 확인 후 호출\n",
    "# 위 웹페이지 예시에서 \"마블 3000만큼 사랑합니다\" 텍스트는 <p> 태그로 둘러쌓여 있습니다.\n",
    "# <p> 태그로도 해당 부분을 가져올 수 있지만 정확도를 높이기 위해 그 상위태그인 <div> 태그를 활용합니다.\n",
    "# <div> 태그의 class 속성을 활용해 해당 태그만 가져올 수 있습니다."
   ]
  },
  {
   "cell_type": "code",
   "execution_count": 25,
   "metadata": {
    "collapsed": true
   },
   "outputs": [],
   "source": [
    "# 5-2) 동일한 태그이름과 class 속성을 가진 태그를 모두 가져옵니다.\n",
    "# 한 페이지에 댓글이 여러개 존재하므로 find 함수 대신 findAll 함수를 활용합니다.\n",
    "tag_name = \"div\"\n",
    "class_name = \"score_reple\"\n",
    "comment_list = soup.findAll(tag_name, {'class': class_name,})"
   ]
  },
  {
   "cell_type": "code",
   "execution_count": 26,
   "metadata": {
    "scrolled": true
   },
   "outputs": [
    {
     "name": "stdout",
     "output_type": "stream",
     "text": [
      "<div class=\"score_reple\">\n",
      "<p>마블 3000만큼 사랑합니다  </p>\n",
      "<dl>\n",
      "<dt>\n",
      "<em>\n",
      "<a href=\"#\" onclick=\"javascript:showPointListByNid(15535812, 'after');parent.clickcr(this, 'ara.uid', '', '', event); return false;\" target=\"_top\">\n",
      "<span>전은호(eunh****)</span>\n",
      "</a>\n",
      "</em>\n",
      "<em>2019.04.24 10:31</em>\n",
      "</dt>\n",
      "<dd>\n",
      "<a class=\"go_report2\" href=\"#\" onclick=\"parent.clickcr(this, 'ara.report', '', '', event); common.report('false','eunh****', 'btZqJmFWX25NHL/nGr+3wzhDGnOIIFAv8s7EIY8qgRs=', '마블 3000만큼 사랑합니다 ', '15535812', 'point_after', false);return false;\"><em>신고</em></a>\n",
      "</dd>\n",
      "</dl>\n",
      "</div>\n",
      "<div class=\"score_reple\">\n",
      "<p>Avengers Assemble!  </p>\n",
      "<dl>\n",
      "<dt>\n",
      "<em>\n",
      "<a href=\"#\" onclick=\"javascript:showPointListByNid(15535344, 'after');parent.clickcr(this, 'ara.uid', '', '', event); return false;\" target=\"_top\">\n",
      "<span>송(hiuh****)</span>\n",
      "</a>\n",
      "</em>\n",
      "<em>2019.04.24 09:35</em>\n",
      "</dt>\n",
      "<dd>\n",
      "<a class=\"go_report2\" href=\"#\" onclick=\"parent.clickcr(this, 'ara.report', '', '', event); common.report('false','hiuh****', 'mo8d59nBL2z+JcpAx4zkq+OjwlxDlu987M0zAYoJ9W8=', 'Avengers Assemble! ', '15535344', 'point_after', false);return false;\"><em>신고</em></a>\n",
      "</dd>\n",
      "</dl>\n",
      "</div>\n",
      "<div class=\"score_reple\">\n",
      "<p>I'm Ironman.  </p>\n",
      "<dl>\n",
      "<dt>\n",
      "<em>\n",
      "<a href=\"#\" onclick=\"javascript:showPointListByNid(15535833, 'after');parent.clickcr(this, 'ara.uid', '', '', event); return false;\" target=\"_top\">\n",
      "<span>ubola(ubol****)</span>\n",
      "</a>\n",
      "</em>\n",
      "<em>2019.04.24 10:32</em>\n",
      "</dt>\n",
      "<dd>\n",
      "<a class=\"go_report2\" href=\"#\" onclick=\"parent.clickcr(this, 'ara.report', '', '', event); common.report('false','ubol****', 'zPCRBYs/o/iX4TrppJFaVexSBaAIww4GF7yutXWnQno=', 'I\\'m Ironman. ', '15535833', 'point_after', false);return false;\"><em>신고</em></a>\n",
      "</dd>\n",
      "</dl>\n",
      "</div>\n",
      "<div class=\"score_reple\">\n",
      "<p><span class=\"ico_viewer\">관람객</span>아이언맨으로 시작해서 아이언맨으로 끝난다..  </p>\n",
      "<dl>\n",
      "<dt>\n",
      "<em>\n",
      "<a href=\"#\" onclick=\"javascript:showPointListByNid(15536366, 'after');parent.clickcr(this, 'ara.uid', '', '', event); return false;\" target=\"_top\">\n",
      "<span>해피사과(qord****)</span>\n",
      "</a>\n",
      "</em>\n",
      "<em>2019.04.24 11:05</em>\n",
      "</dt>\n",
      "<dd>\n",
      "<a class=\"go_report2\" href=\"#\" onclick=\"parent.clickcr(this, 'ara.report', '', '', event); common.report('false','qord****', '/VtkyQqrRzB1+3ro4JjcpxpU4nYFBf2S7kwCS+Iz9Dw=', '아이언맨으로 시작해서 아이언맨으로 끝난다.. ', '15536366', 'point_after', false);return false;\"><em>신고</em></a>\n",
      "</dd>\n",
      "</dl>\n",
      "</div>\n",
      "<div class=\"score_reple\">\n",
      "<p>아스가디언즈 오브 갤럭시 벌써부터 기대됨 ㅋㅋㅋㅋ  </p>\n",
      "<dl>\n",
      "<dt>\n",
      "<em>\n",
      "<a href=\"#\" onclick=\"javascript:showPointListByNid(15536065, 'after');parent.clickcr(this, 'ara.uid', '', '', event); return false;\" target=\"_top\">\n",
      "<span>마즈(choi****)</span>\n",
      "</a>\n",
      "</em>\n",
      "<em>2019.04.24 10:47</em>\n",
      "</dt>\n",
      "<dd>\n",
      "<a class=\"go_report2\" href=\"#\" onclick=\"parent.clickcr(this, 'ara.report', '', '', event); common.report('false','choi****', 'W2xNh6KhfPXrCjnNmVKtUGaezSerhcFKIdto90IEBcE=', '아스가디언즈 오브 갤럭시 벌써부터 기대됨 ㅋㅋㅋㅋ ', '15536065', 'point_after', false);return false;\"><em>신고</em></a>\n",
      "</dd>\n",
      "</dl>\n",
      "</div>\n",
      "<div class=\"score_reple\">\n",
      "<p>히어로물보고 울줄 누가알겠습니까  </p>\n",
      "<dl>\n",
      "<dt>\n",
      "<em>\n",
      "<a href=\"#\" onclick=\"javascript:showPointListByNid(15535546, 'after');parent.clickcr(this, 'ara.uid', '', '', event); return false;\" target=\"_top\">\n",
      "<span>이만호(manh****)</span>\n",
      "</a>\n",
      "</em>\n",
      "<em>2019.04.24 10:07</em>\n",
      "</dt>\n",
      "<dd>\n",
      "<a class=\"go_report2\" href=\"#\" onclick=\"parent.clickcr(this, 'ara.report', '', '', event); common.report('false','manh****', 'MDHumu+25PzkK1sxc/gvbf4O64TCbmBIXvBYJngjVlA=', '히어로물보고 울줄 누가알겠습니까 ', '15535546', 'point_after', false);return false;\"><em>신고</em></a>\n",
      "</dd>\n",
      "</dl>\n",
      "</div>\n",
      "<div class=\"score_reple\">\n",
      "<p>인피니티워가 10년을 무너뜨리는 영화라면엔드게임은 10년을 돌아보는 영화입니다  </p>\n",
      "<dl>\n",
      "<dt>\n",
      "<em>\n",
      "<a href=\"#\" onclick=\"javascript:showPointListByNid(15537760, 'after');parent.clickcr(this, 'ara.uid', '', '', event); return false;\" target=\"_top\">\n",
      "<span>메주0228693848(wook****)</span>\n",
      "</a>\n",
      "</em>\n",
      "<em>2019.04.24 12:20</em>\n",
      "</dt>\n",
      "<dd>\n",
      "<a class=\"go_report2\" href=\"#\" onclick=\"parent.clickcr(this, 'ara.report', '', '', event); common.report('false','wook****', '7BvhsplV3SCtSGwjPWn38d2cXfPj45kWr/61eQrWBQ0=', '인피니티워가 10년을 무너뜨리는 영화라면엔드게임은 10년을 돌아보는 영화입니다 ', '15537760', 'point_after', false);return false;\"><em>신고</em></a>\n",
      "</dd>\n",
      "</dl>\n",
      "</div>\n",
      "<div class=\"score_reple\">\n",
      "<p>쥐가다살렸음 ㅋㅋㅋㅋ  </p>\n",
      "<dl>\n",
      "<dt>\n",
      "<em>\n",
      "<a href=\"#\" onclick=\"javascript:showPointListByNid(15541358, 'after');parent.clickcr(this, 'ara.uid', '', '', event); return false;\" target=\"_top\">\n",
      "<span>에헴(krth****)</span>\n",
      "</a>\n",
      "</em>\n",
      "<em>2019.04.24 15:26</em>\n",
      "</dt>\n",
      "<dd>\n",
      "<a class=\"go_report2\" href=\"#\" onclick=\"parent.clickcr(this, 'ara.report', '', '', event); common.report('false','krth****', '0ye0yR8FgXOsXMqNzaraphY2hujp1uYOCcEfJqKlQbg=', '쥐가다살렸음 ㅋㅋㅋㅋ ', '15541358', 'point_after', false);return false;\"><em>신고</em></a>\n",
      "</dd>\n",
      "</dl>\n",
      "</div>\n",
      "<div class=\"score_reple\">\n",
      "<p><span class=\"ico_viewer\">관람객</span>마지막 한타에서 쌌습니다  </p>\n",
      "<dl>\n",
      "<dt>\n",
      "<em>\n",
      "<a href=\"#\" onclick=\"javascript:showPointListByNid(15536146, 'after');parent.clickcr(this, 'ara.uid', '', '', event); return false;\" target=\"_top\">\n",
      "<span>김대훈(eogn****)</span>\n",
      "</a>\n",
      "</em>\n",
      "<em>2019.04.24 10:51</em>\n",
      "</dt>\n",
      "<dd>\n",
      "<a class=\"go_report2\" href=\"#\" onclick=\"parent.clickcr(this, 'ara.report', '', '', event); common.report('false','eogn****', 'vYOekrROsjGumoiCj0vbIudGB5uBXfpMPjhKa7gc2nc=', '마지막 한타에서 쌌습니다 ', '15536146', 'point_after', false);return false;\"><em>신고</em></a>\n",
      "</dd>\n",
      "</dl>\n",
      "</div>\n",
      "<div class=\"score_reple\">\n",
      "<p>10점 안주는 사람들은 마블에 6에서900까지밖에 애정이 없는거 ...  </p>\n",
      "<dl>\n",
      "<dt>\n",
      "<em>\n",
      "<a href=\"#\" onclick=\"javascript:showPointListByNid(15537174, 'after');parent.clickcr(this, 'ara.uid', '', '', event); return false;\" target=\"_top\">\n",
      "<span>tlsg****</span>\n",
      "</a>\n",
      "</em>\n",
      "<em>2019.04.24 11:50</em>\n",
      "</dt>\n",
      "<dd>\n",
      "<a class=\"go_report2\" href=\"#\" onclick=\"parent.clickcr(this, 'ara.report', '', '', event); common.report('false','tlsg****', 'CBmv0NBxQ+gwcM0FsInmtlhzQYuVtZejGmEFGYHejTI=', '10점 안주는 사람들은 마블에 6에서900까지밖에 애정이 없는거 ... ', '15537174', 'point_after', false);return false;\"><em>신고</em></a>\n",
      "</dd>\n",
      "</dl>\n",
      "</div>\n"
     ]
    }
   ],
   "source": [
    "# 웹페이지에서 댓글을 태그로 특정할때 <p> 태그가 아닌 상위태그 <div>를 활용했기 때문에 <div> 태그 하위태그가 모두 출현합니다.\n",
    "for comment in comment_list:\n",
    "    print(comment)"
   ]
  },
  {
   "cell_type": "code",
   "execution_count": 27,
   "metadata": {},
   "outputs": [
    {
     "name": "stdout",
     "output_type": "stream",
     "text": [
      "<p>마블 3000만큼 사랑합니다  </p>\n",
      "<p>Avengers Assemble!  </p>\n",
      "<p>I'm Ironman.  </p>\n",
      "<p><span class=\"ico_viewer\">관람객</span>아이언맨으로 시작해서 아이언맨으로 끝난다..  </p>\n",
      "<p>아스가디언즈 오브 갤럭시 벌써부터 기대됨 ㅋㅋㅋㅋ  </p>\n",
      "<p>히어로물보고 울줄 누가알겠습니까  </p>\n",
      "<p>인피니티워가 10년을 무너뜨리는 영화라면엔드게임은 10년을 돌아보는 영화입니다  </p>\n",
      "<p>쥐가다살렸음 ㅋㅋㅋㅋ  </p>\n",
      "<p><span class=\"ico_viewer\">관람객</span>마지막 한타에서 쌌습니다  </p>\n",
      "<p>10점 안주는 사람들은 마블에 6에서900까지밖에 애정이 없는거 ...  </p>\n"
     ]
    }
   ],
   "source": [
    "# find 함수를 한번 더 활용하여 <div> 태그 하위태그 중 <p> 태그만 골라 가져옵니다.\n",
    "# class 속성이 없는 경우 입력하지 않아도 됩니다.\n",
    "for comment in comment_list:\n",
    "    print(comment.find(\"p\"))"
   ]
  },
  {
   "cell_type": "code",
   "execution_count": 28,
   "metadata": {},
   "outputs": [
    {
     "name": "stdout",
     "output_type": "stream",
     "text": [
      "마블 3000만큼 사랑합니다  \n",
      "Avengers Assemble!  \n",
      "I'm Ironman.  \n",
      "관람객아이언맨으로 시작해서 아이언맨으로 끝난다..  \n",
      "아스가디언즈 오브 갤럭시 벌써부터 기대됨 ㅋㅋㅋㅋ  \n",
      "히어로물보고 울줄 누가알겠습니까  \n",
      "인피니티워가 10년을 무너뜨리는 영화라면엔드게임은 10년을 돌아보는 영화입니다  \n",
      "쥐가다살렸음 ㅋㅋㅋㅋ  \n",
      "관람객마지막 한타에서 쌌습니다  \n",
      "10점 안주는 사람들은 마블에 6에서900까지밖에 애정이 없는거 ...  \n"
     ]
    }
   ],
   "source": [
    "# get_text() 함수를 활용해 태그로 둘러쌓인 텍스트만 가져옵니다.\n",
    "for comment in comment_list:\n",
    "    print(comment.find(\"p\").get_text())"
   ]
  },
  {
   "cell_type": "code",
   "execution_count": 29,
   "metadata": {
    "collapsed": true
   },
   "outputs": [],
   "source": [
    "# 6. 가져온 데이터 정리해서 파일에 저장하기\n",
    "# 새로운 파일을 생성해서 영화댓글을 저장합니다.\n",
    "f = open(\"movie_comment.txt\", \"w\", encoding=\"utf-8\")\n",
    "for comment in comment_list:\n",
    "    f.write(comment.find(\"p\").get_text() + '\\n')\n",
    "f.close()"
   ]
  },
  {
   "cell_type": "code",
   "execution_count": 30,
   "metadata": {},
   "outputs": [
    {
     "name": "stdout",
     "output_type": "stream",
     "text": [
      "마블 3000만큼 사랑합니다\n",
      "Avengers Assemble!\n",
      "I'm Ironman.\n",
      "관람객아이언맨으로 시작해서 아이언맨으로 끝난다..\n",
      "아스가디언즈 오브 갤럭시 벌써부터 기대됨 ㅋㅋㅋㅋ\n",
      "히어로물보고 울줄 누가알겠습니까\n",
      "인피니티워가 10년을 무너뜨리는 영화라면엔드게임은 10년을 돌아보는 영화입니다\n",
      "쥐가다살렸음 ㅋㅋㅋㅋ\n",
      "관람객마지막 한타에서 쌌습니다\n",
      "10점 안주는 사람들은 마블에 6에서900까지밖에 애정이 없는거 ...\n"
     ]
    }
   ],
   "source": [
    "# 파일에 저장된 실시간 검색어를 불러옵니다.\n",
    "f = open(\"movie_comment.txt\", encoding=\"utf-8\")\n",
    "for comment in f:\n",
    "    print(comment.strip())\n",
    "f.close()"
   ]
  },
  {
   "cell_type": "markdown",
   "metadata": {
    "collapsed": true
   },
   "source": [
    "### Assignment 1. 네이버 영화댓글을 대량으로 가져오기\n",
    "> - 본 자료를 응용하여 네이버 영화댓글을 부가정보와 함께 대량으로 가져오는 코드를 작성합니다.\n",
    "- 영화댓글 페이지의 100페이지 분량의 댓글을 수집합니다.\n",
    "- 영화댓글 텍스트와 함께, 작성일자와 평점을 같이 가져옵니다.\n",
    "- 영화댓글, 작성일자, 평점을 탭(\\t) 단위로 구분하여 파일에 저장합니다.  \n",
    "\n",
    "> HINT. 영화댓글 URL 맨 뒤의 숫자는 페이지 번호를 의미합니다. (\"&page=1\")\n",
    "\n",
    "---"
   ]
  },
  {
   "cell_type": "code",
   "execution_count": null,
   "metadata": {
    "collapsed": true
   },
   "outputs": [],
   "source": []
  }
 ],
 "metadata": {
  "anaconda-cloud": {},
  "kernelspec": {
   "display_name": "Python 3",
   "language": "python",
   "name": "python3"
  },
  "language_info": {
   "codemirror_mode": {
    "name": "ipython",
    "version": 3
   },
   "file_extension": ".py",
   "mimetype": "text/x-python",
   "name": "python",
   "nbconvert_exporter": "python",
   "pygments_lexer": "ipython3",
   "version": "3.6.8"
  }
 },
 "nbformat": 4,
 "nbformat_minor": 1
}
