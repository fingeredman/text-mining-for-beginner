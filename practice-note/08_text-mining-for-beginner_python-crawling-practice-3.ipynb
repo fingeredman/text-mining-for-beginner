{
 "cells": [
  {
   "cell_type": "markdown",
   "metadata": {},
   "source": [
    "# TEXT MINING for BEGINNER\n",
    "- 본 자료는 텍스트 마이닝을 활용한 연구 및 강의를 위한 목적으로 제작되었습니다.\n",
    "- 본 자료를 강의 목적으로 활용하고자 하시는 경우 꼭 아래 메일주소로 연락주세요.\n",
    "- 본 자료에 대한 허가되지 않은 배포를 금지합니다.\n",
    "- 강의, 저작권, 출판, 특허, 공동저자에 관련해서는 문의 바랍니다.\n",
    "- **Contact : 전병진(fingeredman@gmail.com)**\n",
    "\n",
    "---"
   ]
  },
  {
   "cell_type": "markdown",
   "metadata": {},
   "source": [
    "## DAY 08. 동적 페이지 수집하기: 인스타그램\n",
    "- Python을 활용해 가상의 브라우저를 띄워 웹페이지에서 데이터를 크롤링하는 방법에 대해 다룹니다.\n",
    "\n",
    "---"
   ]
  },
  {
   "cell_type": "markdown",
   "metadata": {},
   "source": [
    "> **\\*\\*\\* 주의사항 \\*\\*\\***  \n",
    "본 자료에서 설명하는 웹크롤링하는 방법은 해당 기법에 대한 이해를 돕고자하는 교육의 목적으로 사용되었으며,  \n",
    "이를 활용한 대량의 무단 크롤링은 범죄에 해당할 수 있음을 알려드립니다."
   ]
  },
  {
   "cell_type": "code",
   "execution_count": null,
   "metadata": {
    "collapsed": true
   },
   "outputs": [],
   "source": []
  },
  {
   "cell_type": "markdown",
   "metadata": {},
   "source": [
    "### 1. 가상의 브라우저 실행하기: Chrome Driver\n",
    "\n",
    "---"
   ]
  },
  {
   "cell_type": "code",
   "execution_count": 1,
   "metadata": {
    "collapsed": true
   },
   "outputs": [],
   "source": [
    "# 가상의 브라우저를 컨트롤 할 수 있도록 도와주는 selenium 패키지를 설치합니다.\n",
    "# 아래 주석을 해지하고 셀을 실행합니다.\n",
    "# 설치는 한번만 수행하면 되며, 재설치시 Requirement already satisfied: ~ 라는 메시지가 출력됩니다.\n",
    "\n",
    "#!pip install selenium"
   ]
  },
  {
   "cell_type": "code",
   "execution_count": 2,
   "metadata": {
    "collapsed": true
   },
   "outputs": [],
   "source": [
    "# Python 코드를 통해 가상의 브라우저를 띄우기 위해 selenium 패키지를 import 합니다.\n",
    "import selenium\n",
    "from selenium import webdriver\n",
    "from selenium.webdriver.common.by import By\n",
    "\n",
    "# selenium을 활용해 브라우저를 직접 띄우는 경우, 실제 웹서핑을 할때처럼 로딩시간이 필요합니다.\n",
    "# 로딩시간 동안 대기하도록 코드를 구성하기위해 time 패키지를 import 합니다.\n",
    "import time\n",
    "\n",
    "# Python 코드를 통해 웹페이지에 정보를 요청하기 위해 BeautifulSoup, urllib 패키지를 import 합니다.\n",
    "from bs4 import BeautifulSoup\n",
    "import requests\n",
    "import urllib"
   ]
  },
  {
   "cell_type": "code",
   "execution_count": 3,
   "metadata": {
    "collapsed": true
   },
   "outputs": [],
   "source": [
    "# Chrome Driver를 호출합니다.\n",
    "chrome_options = webdriver.ChromeOptions()\n",
    "\n",
    "# 브라우저에 임의로 User-agent 옵션을 넣어 Python 코드로 접속함을 숨깁니다.\n",
    "chrome_options.add_argument('--user-agent=\"Mozilla/5.0 (Macintosh; Intel Mac OS X 10_13_4) AppleWebKit/537.36 (KHTML, like Gecko) Chrome/66.0.3359.139 Safari/537.36\"')\n",
    "\n",
    "# Chrome Driver 파일의 경로를 지정하고 실행합니다.\n",
    "# Chrome Driver는 아래 링크에서 다운로드 가능합니다.\n",
    "\n",
    "# 본 Jupyter Notebook 파일과 동일한 경로에 Chrome Driver가 존재하는 경우 아래 경로를 그대로 사용합니다.\n",
    "\n",
    "# Windows 운영체제\n",
    "#driver = webdriver.Chrome(executable_path = \"chromedriver\", chrome_options=chrome_options)\n",
    "\n",
    "# MAC, Linux 운영체제\n",
    "driver = webdriver.Chrome(executable_path = \"./chromedriver\", chrome_options=chrome_options)"
   ]
  },
  {
   "cell_type": "markdown",
   "metadata": {},
   "source": [
    "Chrome Driver 다운로드 URL : http://chromedriver.chromium.org/downloads"
   ]
  },
  {
   "cell_type": "code",
   "execution_count": null,
   "metadata": {
    "collapsed": true
   },
   "outputs": [],
   "source": []
  },
  {
   "cell_type": "markdown",
   "metadata": {},
   "source": [
    "### 2. 가상의 브라우저를 활용에 사이트 접속하기\n",
    "\n",
    "---"
   ]
  },
  {
   "cell_type": "code",
   "execution_count": 4,
   "metadata": {
    "collapsed": true
   },
   "outputs": [],
   "source": [
    "# 브라우저에서 URL에 해당하는 페이지로 이동합니다.\n",
    "URL = \"https://www.instagram.com/\"\n",
    "driver.get(URL)\n",
    "# 실제 페이지가 불러와지는 시간을 고려해 sleep(SEC) 함수로 기다리는 시간을 지정해줍니다.\n",
    "time.sleep(10)"
   ]
  },
  {
   "cell_type": "code",
   "execution_count": 5,
   "metadata": {
    "collapsed": true
   },
   "outputs": [],
   "source": [
    "# 인스타그램 게시물에 접근하기 위해서는 로그인이 필요합니다.\n",
    "# 인스타그램 로그인 페이지로 이동합니다.\n",
    "# click() 함수로 원하는 요소(태그)를 클릭할 수 있습니다.\n",
    "driver.find_element(By.CLASS_NAME, \"izU2O\").find_element(By.TAG_NAME, \"a\").click()\n",
    "time.sleep(10)"
   ]
  },
  {
   "cell_type": "code",
   "execution_count": 6,
   "metadata": {
    "collapsed": true
   },
   "outputs": [],
   "source": [
    "# 인스타그램 로그인 페이지에서 아이디(ID)와 비밀번호(PW)를 입력합니다.\n",
    "# 아이디와 비밀번호를 브라우저에서 직접 입력해도 됩니다.\n",
    "ID = \"여기에 ID를 입력합니다.\"\n",
    "PW = \"여기에 PW를 입력합니다.\"\n",
    "driver.find_element(By.NAME, \"username\").send_keys(ID)\n",
    "driver.find_element(By.NAME, \"password\").send_keys(PW)\n",
    "time.sleep(2)"
   ]
  },
  {
   "cell_type": "code",
   "execution_count": 7,
   "metadata": {
    "collapsed": true
   },
   "outputs": [],
   "source": [
    "# 로그인 버튼을 직접 클릭해 로그인합니다.\n",
    "# Selenium으로 로그인 버튼을 클릭하는 경우 자동입력방지문자를 입력해야 합니다."
   ]
  },
  {
   "cell_type": "code",
   "execution_count": 8,
   "metadata": {
    "collapsed": true
   },
   "outputs": [],
   "source": [
    "# 알림 설정 관련 선택창이 출현한 경우에 \"나중에 하기\"를 선택합니다.\n",
    "# 알림 설정 창이 출현하지 않는다면 실행을 하지 말아주세요.\n",
    "driver.find_element(By.CLASS_NAME, \"mt3GC\").find_elements(By.TAG_NAME, \"button\")[1].click()"
   ]
  },
  {
   "cell_type": "code",
   "execution_count": 9,
   "metadata": {
    "collapsed": true
   },
   "outputs": [],
   "source": [
    "# 인스타그램 검색창에 해시태그를 검색합니다.\n",
    "\n",
    "# 검색어를 입력합니다.\n",
    "keyword = \"#빅데이터\"\n",
    "search_form = driver.find_element(By.CSS_SELECTOR, \"#react-root > section > nav > div._8MQSO.Cx7Bp > div > div > div.LWmhU._0aCwM > input\")\n",
    "search_form.send_keys(keyword)\n",
    "time.sleep(5)"
   ]
  },
  {
   "cell_type": "code",
   "execution_count": 10,
   "metadata": {
    "collapsed": true
   },
   "outputs": [],
   "source": [
    "# 해시태그 검색결과 중 가장 상위에 출현한 해시태그 검색결과로 이동합니다.\n",
    "search_url = driver.find_element(By.CLASS_NAME, \"fuqBx\").find_element(By.TAG_NAME, \"a\").get_attribute(\"href\")\n",
    "driver.get(search_url)\n",
    "time.sleep(5)"
   ]
  },
  {
   "cell_type": "markdown",
   "metadata": {},
   "source": [
    "### 3. 인스타그램 게시물 본문 수집하기\n",
    "\n",
    "---"
   ]
  },
  {
   "cell_type": "code",
   "execution_count": 11,
   "metadata": {},
   "outputs": [
    {
     "name": "stdout",
     "output_type": "stream",
     "text": [
      "Scroll 횟수 : 2\r"
     ]
    }
   ],
   "source": [
    "# 수집된 게시물 개수를 저장할 변수를 선언합니다.\n",
    "post_count = 0\n",
    "\n",
    "# 게시물 내용을 저장할 파일을 생성합니다.\n",
    "# 파일명에는 \"#\"을 포함할 수 없으므로 제거해줍니다.\n",
    "f = open(\"instagram_post_\" + keyword.replace(\"#\", \"\") + \".txt\", \"w\", encoding = \"utf-8\")\n",
    "\n",
    "# 인스타그램 게시물은 스크롤을 계속 내려야 모든 게시물을 확인할 수 있습니다.\n",
    "# 몇 번 스크롤을 내리면서 게시물을 수집할지 지정합니다.\n",
    "# 게시물이 양이 많을수록 스크롤 횟수를 늘려줍니다.\n",
    "scroll_limit = 2\n",
    "\n",
    "# 수집된 전체 게시물을 저장할 리스트를 생성합니다.\n",
    "# 중복된 게시물 수집을 방지하기위해 활용됩니다.\n",
    "total_post_list = []\n",
    "\n",
    "for i in range(scroll_limit+1):\n",
    "    # 현재 내려진 스크롤 횟수를 출력합니다.\n",
    "    print(\"Scroll 횟수 :\", i, end=\"\\r\")\n",
    "    time.sleep(5)\n",
    "    # 현재 화면상에 출현한 게시물 모두를 불러와 리스트에 저장합니다.\n",
    "    post_list = driver.find_elements(By.CLASS_NAME, \"_9AhH0\")\n",
    "    # 이미 수집된 게시물이 있는지 확인하고 새로운 게시물만 리스트에 저장합니다.\n",
    "    post_list = [post for post in post_list if post not in total_post_list]\n",
    "    # 수집할 게시물을 수집된 전체 게시물 리스트에 추가합니다.\n",
    "    total_post_list += post_list\n",
    "    \n",
    "    # FOR 문을 활용해 게시물 지정을 반복합니다. (1.~4. 반복)\n",
    "    for post in post_list:\n",
    "        try:\n",
    "            # 1. 포스팅 이미지를 클릭합니다.\n",
    "            post.click()\n",
    "            time.sleep(7)\n",
    "            # 2. 포스팅 본문의 텍스트를 가져옵니다.\n",
    "            try:\n",
    "                content = driver.find_element(By.CLASS_NAME, \"C4VMK\").text\n",
    "                content = content.replace(\"\\n\", \" \")\n",
    "                f.write(content + \"\\n\")\n",
    "            except:\n",
    "                None\n",
    "            # 3. 수집한 포스트 개수를 늘려줍니다.\n",
    "            post_count += 1\n",
    "            # 4. 우측 상단의 X를 눌러 팝업창을 닫습니다.\n",
    "            driver.find_element(By.CLASS_NAME, \"ckWGn\").click()\n",
    "        except:\n",
    "            continue\n",
    "            \n",
    "    # 스크롤을 내려 추가로 게시물이 브라우저에 보이도록 합니다.\n",
    "    driver.execute_script(\"window.scrollTo(0, document.body.scrollHeight);\")\n",
    "    time.sleep(5)\n",
    "f.close()"
   ]
  },
  {
   "cell_type": "code",
   "execution_count": 12,
   "metadata": {},
   "outputs": [
    {
     "name": "stdout",
     "output_type": "stream",
     "text": [
      "> 수집한 총 게시물 개수 : 81\n"
     ]
    }
   ],
   "source": [
    "print(\"> 수집한 총 게시물 개수 :\", post_count)"
   ]
  },
  {
   "cell_type": "code",
   "execution_count": 13,
   "metadata": {
    "collapsed": true
   },
   "outputs": [],
   "source": [
    "# Chrome Driver를 닫습니다.\n",
    "driver.close()"
   ]
  },
  {
   "cell_type": "code",
   "execution_count": 14,
   "metadata": {},
   "outputs": [
    {
     "name": "stdout",
     "output_type": "stream",
     "text": [
      "westitschool #취업성공패키지 #내일배움카드 #내일배움 #국가자격증 #과정평가형 #자격증 #취업 #국비훈련 #수원국비지원 #실업 #실업자 #수원컴퓨터 #수원자격증 #컴활 #컴퓨터활용능력 #드론 #수원컴퓨터학원 #수원취업 #화성 #국비 #수원 #국비지원무료 #수원직업학교 #빅데이터 14시간\n",
      "westitschool #취업성공패키지 #내일배움카드 #내일배움 #국가자격증 #과정평가형 #자격증 #취업 #국비훈련 #수원국비지원 #실업 #실업자 #수원컴퓨터 #수원자격증 #컴활 #컴퓨터활용능력 #드론 #수원컴퓨터학원 #수원취업 #화성 #국비 #수원 #국비지원무료 #수원직업학교 #빅데이터 14시간\n",
      "westitschool 초경량 비행장치 드론조종자 양성 및 영상촬영편집과정 이 개강한지 어느덧 3개월이 지났습니다.  처음 시작할때만 해도 길게만 느껴졌던 시간이 2달밖에 남지 않았습니다.  걱정으로 시작하지만 항상 끝은 아쉬움이 많이 남네요. 다음과정은 8월~9월이 될 것같습니다. 그전 품질경영과정과 전산응용기계제도기능사(캐드)과정이 7월말에 개강합니다.  어렵게만 느껴지지만 모두 같은 마음으로 시작하고 결실맺어 수료하고 취업합니다. 용기를 갖고 도전하세요 031-295-5544 1일\n",
      "happy_chu_88 #부업추천 강추합니다 3주동안 한달월급 벌어가기! 오늘 드뎌 현금인출!! 간단하게 한두시간 짬내서 240만원!!! #실화 입니다 진짜루 #투잡 #부업 #온라인마케터 모집합ㄴㅣ다 #경단녀 #안전한부업 #육아맘 #직딩 #대학생 #남자분들 모두 가능하구 열심히 하시면 고수익은 덤~~덤 듀오덤 사기아니고 다단계도 아닌 #빅데이터 기반으로한 #온라인마케팅 입니다 #쇼핑몰창업 으로 수익창출하며 #리셀러수익 업계최고대우! 2일\n",
      "halovely08 #아들책 . . 점점 바뀌고 있는 우리아이들이 알아야하지요~ 우리아들이 가장 관심있는 분야에요  오늘도 씻고나오자마자 보시는 우리아들  #인공지능#컴퓨터#빅데이터 만화그림으로 아이들이 쉽게 개념을 이해할수 있고 재미를 느낄수 있게 하는 #미래과학교과서  저도 틈틈히 보고있어요 엄마도 알아야하지요 ㅋㅋㅋ  학교교과연계되어있고 초등 영재들과 교사,학무모가 강력추천하는~ #아름다운사람들 고고~ . @beautiful_publishers . . #ai냥냥이의미래과학교과서#육아정보#과학책#초등책#북스타그램#책스타그램#초등일상 #초등추천도서#독서 2주\n",
      "jysida 열심히 모내기 하시는 농업인들!  올해도 대풍 거두시고, 쌀값도 제대로 받으시면 좋으련만... 농협마다 작년에 수매한 벼들이 팔리지 않고 1/2가량 남아있는 데다 올해는 추석이 빨라서 8월말이면 햇벼를 수확하기 시작하여 재고 물량이 넘쳐서 가격이 하락할까봐 벌써부터 걱정이 크시네요.  봄배추 재배농가들은 가격폭락으로 갈아엎기도 했다는데, 곧 수확이 시작될 양파, 마늘, 감자 재배 농가들도 가격 하락 가능성에 고심중이십니다.  농업인들은 화학비료나 농약 사용을 최대한 자제하는 등 양심적으로 잘 재배만 하면 판매에는 신경쓰지 않도록 빅데이터와 IT기술을 활용하여 농산물 생산ㆍ 유통ㆍ판매구조를 근본적으로 개선해야 하겠습니다. #정용선 #당진 #당진시 #자유한국당 #당협위원장 #모내기 #농산물 #제값받기 #빅데이터 1주\n",
      "jini_sta #과학 관심많은 널 위한 엄마의 선물^^ #ai냥냥이의미래과학교과서 . 만화로 아이들이 #인공지능 #컴퓨터 #빅데이터 쉽게 이해할수있고 재미를 느낄수있으니 과학 어렵지많은 않아요~ 학교교과연계가 되어있기에 미래과학기술 개념부터 알기쉽게 과학은 참 잼있어요~ . @beautiful_publishers . #육아 #육아정보 #육아스타그램 #과학책 #초등책 #북스타그램 #책스타그램 #초등맘 #독서 #초등추천도서 #미래과학교과서 #아름다운사람들 #초등그램 #어린이책 #인스타키ㅈ니 1주\n",
      "_coo_ing_ 애플실리콘케이스😍  요즘 베스트컬러가 뭔지 여쭤보시는 고객님들이 많아졌네요!!! 최첨단 빅데이터(?)를 이용해서 베스트컬러들을 곧 발표해드리겠습니다🥴🥴 다들 오늘도 쿠잉하세요🙏🙏 . . 무료배송이벤트중❤️ 12시간\n",
      "dahee_dayeon.mom #퍼플아카데미#서울서남부#원장님#지역코칭#상담#속시원 #이제부터시작#목동센터#퍼플맘의스마트육아#영어홈스쿨#두근두근#솔루션#빅데이터#내아이맞춤 . . 오늘 드디어 서울서남부 지역코칭날 오랜만에..아침서둘러 준비하고, . . 두근두근..떨리는 마음으로.. 목동센터 고고씽♡ . . 곰돌이 마눌님이 반갑게 맞아주시고~ 원장님,주워니마미님,예주맘님도 뵙고~~^^;; . . 설문지 주시는거 받아 작성하며, 음료수도 주시구~~ . . 긴장 풀어주시려는 곰돌이 마눌님ㅋㅋ 이야기 들으며~ 드디어 원장님과 1대1 코칭!!!! 지역코칭이라고.. 1대 몇으로 하는게 아닌.. 개별 코칭!!!! . .  그동안 쌓인 데이터를 보시며, 아이의 성향을 담번에 파악하시고, 문제점과 해결해야 할 과제들을 알려주신 너무나 값진 시간♡ . . 화기애애한 분위기속에~ 웃음이 끊이지 않았고~ 다들 그렇지..그럼요..끄덕끄덕~ . . 초심으로 돌아가 올 한해도 퍼플아카데미 고고씽입니다!!! . . 내 아이에게 딱 맞는 맞춤식~퍼플아카데미.. 부족한 부분 집중 관리해주시는 퍼플아카데미.. 즐겁게 리딩할 수있게 밤낮으로 애쓰시고 찾으시는 원장님! . . 어느 누구하나 낙오되지 않게 붙잡아 드립니다!! 지역모임나오세요~^^(서울서남부이신분들 저에게..다이렉ㅋ) . . 지역혜택이 점점점~~~풍성해집니다!! 마치고 나와 점심먹고..시간에 쫓기긴 했지만 차까지 마시며 인증ㅋ . . 우린 담주 지역모임에서 더 많은 이야기를 나누기로해요!!! 오늘 너무너무 감사합니다💜퍼플해요💜 7주\n",
      "0001jmp ㅇ삼성전자 /SK 한화토탈 /포스코 교육기업 ㅇR언어 / Python언어 / JMP ㅇ실무 비즈니스 통계분석 ㅇ코딩 + 통계 + 비즈니스 까지! ㅇ수강생 Naver Line / 셀트리온 / 아모레퍼시픽 취직 및 이직 ㅇ과정 안내 ㅡ ㅇPython 실무 데이터분석 기초과정 (대학생 할인)  3차 : 6월 8일 15일 22일 29일 / 7월 6일 (매주 토 5회)  4차 : 7월 13일 20일 27일, 8월 3일, 10일 (매주 토 5회)  5차 : 8월 17일, 24일, 31일, 9월 7일, 14일 (매주 토 5회)  시간: 오후반 13:00~ 17:00 ㅡ  ㅇPython 실무 데이터분석 중급과정 (대학생 할인)  3차 : 7월 6일 13일 20일 27일, 8월 3일 (매주 목 5회)  시간: 저녁반 18:30~ 22:30 ㅡ  ㅇ R 실무 데이터분석 초급 과정 (대학생 할인)  일자 : 7월 5일, 12일, 19일, 26일(4회) 시간: 13:30 ~ 17:30 (4시간) ㅡ  ㅇR 실무 데이터분석 중급 과정 (대학생 할인)  일자 : 8월 2일 , 9일, 16일, 23일 (4회) 시간: 13:30 ~ 17:30 (4시간) ㅡ  www.ainbd.com  #빅데이터 #데이터 #분석 #강남역 #교육 #학기 #취업 #실무 #이직 #코딩을 #운동 #하듯 #벌크업 #잠실역 #강의 #스터디 #졸업 #비즈니스 35분\n"
     ]
    }
   ],
   "source": [
    "# 파일에 저장된 카페 게시글 내용을 확인합니다.\n",
    "f = open(\"instagram_post_\" + keyword.replace(\"#\", \"\") + \".txt\", encoding=\"utf-8\")\n",
    "for post in f.read().split(\"\\n\")[:10]:\n",
    "    print(post.strip())\n",
    "f.close()"
   ]
  }
 ],
 "metadata": {
  "kernelspec": {
   "display_name": "Python 3",
   "language": "python",
   "name": "python3"
  },
  "language_info": {
   "codemirror_mode": {
    "name": "ipython",
    "version": 3
   },
   "file_extension": ".py",
   "mimetype": "text/x-python",
   "name": "python",
   "nbconvert_exporter": "python",
   "pygments_lexer": "ipython3",
   "version": "3.6.8"
  }
 },
 "nbformat": 4,
 "nbformat_minor": 2
}
