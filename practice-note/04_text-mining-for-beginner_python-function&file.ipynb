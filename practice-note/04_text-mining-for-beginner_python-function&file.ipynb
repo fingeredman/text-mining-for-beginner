{
 "cells": [
  {
   "cell_type": "markdown",
   "metadata": {},
   "source": [
    "# TEXT MINING for BEGINNER\n",
    "- 본 자료는 텍스트 마이닝을 활용한 연구 및 강의를 위한 목적으로 제작되었습니다.\n",
    "- 본 자료를 강의 목적으로 활용하고자 하시는 경우 꼭 아래 메일주소로 연락주세요.\n",
    "- 본 자료에 대한 허가되지 않은 배포를 금지합니다.\n",
    "- 강의, 저작권, 출판, 특허, 공동저자에 관련해서는 문의 바랍니다.\n",
    "- **Contact : FINGEREDMAN(fingeredman@gmail.com)**\n",
    "\n",
    "---"
   ]
  },
  {
   "cell_type": "markdown",
   "metadata": {},
   "source": [
    "## DAY 04. Python 함수와 파일 만들고 호출하기\n",
    "- Python에서 함수를 황요하고 파일을 다루는 방법에 대해 다룹니다.\n",
    "\n",
    "---"
   ]
  },
  {
   "cell_type": "markdown",
   "metadata": {},
   "source": [
    "### 1. 함수(FUNCTION):  특정 명령어를 하나의 함수로 정의하고 호출해서 활용합니다.\n",
    "\n",
    "---"
   ]
  },
  {
   "cell_type": "code",
   "execution_count": 1,
   "metadata": {
    "collapsed": true
   },
   "outputs": [],
   "source": [
    "# 1-1) 함수는 def + 함수이름(변수1, 변수2, ...): 구조로 선언합니다.\n",
    "def print_hello():\n",
    "    print(\"hello!\")\n",
    "    \n",
    "def print_text(text):\n",
    "    print(text)"
   ]
  },
  {
   "cell_type": "code",
   "execution_count": 2,
   "metadata": {},
   "outputs": [
    {
     "name": "stdout",
     "output_type": "stream",
     "text": [
      "hello!\n",
      "hello world!\n"
     ]
    }
   ],
   "source": [
    "# 1-2) 선언된 함수는 함수이름(변수1, 변수2, ...) 형태로 호출할 수 있습니다.\n",
    "print_hello()\n",
    "print_text(\"hello world!\")"
   ]
  },
  {
   "cell_type": "code",
   "execution_count": 3,
   "metadata": {
    "collapsed": true
   },
   "outputs": [],
   "source": [
    "# 2) 함수에 입력으로 사용되는 변수는 여러개 사용 가능합니다.\n",
    "def new_function(a, b, c, d, e):\n",
    "    print(a, b, c, d, e)"
   ]
  },
  {
   "cell_type": "code",
   "execution_count": 4,
   "metadata": {},
   "outputs": [
    {
     "name": "stdout",
     "output_type": "stream",
     "text": [
      "1 2 3 4 5\n"
     ]
    }
   ],
   "source": [
    "new_function(1, 2, 3, 4, 5)"
   ]
  },
  {
   "cell_type": "code",
   "execution_count": 5,
   "metadata": {
    "collapsed": true
   },
   "outputs": [],
   "source": [
    "# 3-1) 함수에서 return 명령어를 활용하면, 함수가 그 값을 대신합니다.\n",
    "def plus(a, b):\n",
    "    result = a + b\n",
    "    return result"
   ]
  },
  {
   "cell_type": "code",
   "execution_count": 6,
   "metadata": {},
   "outputs": [
    {
     "name": "stdout",
     "output_type": "stream",
     "text": [
      "3\n"
     ]
    }
   ],
   "source": [
    "print(plus(1, 2))"
   ]
  },
  {
   "cell_type": "code",
   "execution_count": 7,
   "metadata": {
    "collapsed": true
   },
   "outputs": [],
   "source": [
    "# 3-2) 함수에서 return 명령어가 없으면, 함수는 값을 가지지 않습니다.\n",
    "def plus(a, b):\n",
    "    result = a + b"
   ]
  },
  {
   "cell_type": "code",
   "execution_count": 8,
   "metadata": {},
   "outputs": [
    {
     "name": "stdout",
     "output_type": "stream",
     "text": [
      "None\n"
     ]
    }
   ],
   "source": [
    "print(plus(1, 2))"
   ]
  },
  {
   "cell_type": "code",
   "execution_count": 9,
   "metadata": {
    "collapsed": true
   },
   "outputs": [],
   "source": [
    "# 3-3) 함수 안에서 PRINT 문을 활용하면 동일한 결과를 보이지만, 함수 자체가 값을 가지지는 않습니다.\n",
    "def plus(a, b):\n",
    "    result = a + b\n",
    "    print(result)"
   ]
  },
  {
   "cell_type": "code",
   "execution_count": 10,
   "metadata": {},
   "outputs": [
    {
     "name": "stdout",
     "output_type": "stream",
     "text": [
      "3\n",
      "None\n"
     ]
    }
   ],
   "source": [
    "print(plus(1, 2))"
   ]
  },
  {
   "cell_type": "code",
   "execution_count": 11,
   "metadata": {},
   "outputs": [
    {
     "name": "stdout",
     "output_type": "stream",
     "text": [
      "3 + 0 = 3\n",
      "3 + 1 = 4\n",
      "3 + 2 = 5\n",
      "3 + 3 = 6\n",
      "3 + 4 = 7\n",
      "3 + 5 = 8\n",
      "3 + 6 = 9\n",
      "3 + 7 = 10\n",
      "3 + 8 = 11\n",
      "3 + 9 = 12\n"
     ]
    }
   ],
   "source": [
    "# 4) 함수는 FOR 문, IF 문 안에서도 자유롭게 반복해서 호출할 수 있습니다.\n",
    "for i in range(10):\n",
    "    a = 3\n",
    "    print(a, \"+\", i, \"=\", end=\" \")\n",
    "    plus(a, i)"
   ]
  },
  {
   "cell_type": "markdown",
   "metadata": {},
   "source": [
    "### 2. 파일 입출력(FILE I/O):  파일에서 텍스트 데이터를 불러오거나 저장합니다.\n",
    "\n",
    "---"
   ]
  },
  {
   "cell_type": "markdown",
   "metadata": {},
   "source": [
    "#### 2.1. 파일 입출력(FILE I/O): 파일을 변수에 불러와 내용을 불러오거나 저장합니다.\n",
    "\n",
    "---"
   ]
  },
  {
   "cell_type": "code",
   "execution_count": 12,
   "metadata": {
    "collapsed": true
   },
   "outputs": [],
   "source": [
    "# 1-1) open 함수를 활용하여 새로운 파일을 생성하고 내용을 기록합니다.\n",
    "f = open(\"file_name.txt\", \"w\", encoding=\"utf-8\")\n",
    "for i in range(5):\n",
    "    f.write(str(i) + \"\\t파일에 새로운 문자열을 입력합니다.\" + \"\\n\")\n",
    "f.close()"
   ]
  },
  {
   "cell_type": "code",
   "execution_count": 13,
   "metadata": {
    "collapsed": true
   },
   "outputs": [],
   "source": [
    "# 1-2) 동일한 파일이름으로 파일을 생성하는 경우 내용이 덮어쓰기 됩니다.\n",
    "f = open(\"file_name.txt\", \"w\", encoding=\"utf-8\")\n",
    "for i in range(5):\n",
    "    f.write(str(i) + \"\\t기존 파일에 새로운 문자열을 덮어씁니다.\" + \"\\n\")\n",
    "f.close()"
   ]
  },
  {
   "cell_type": "code",
   "execution_count": 14,
   "metadata": {},
   "outputs": [
    {
     "name": "stdout",
     "output_type": "stream",
     "text": [
      "0\t기존 파일에 새로운 문자열을 덮어씁니다.\n",
      "1\t기존 파일에 새로운 문자열을 덮어씁니다.\n",
      "2\t기존 파일에 새로운 문자열을 덮어씁니다.\n",
      "3\t기존 파일에 새로운 문자열을 덮어씁니다.\n",
      "4\t기존 파일에 새로운 문자열을 덮어씁니다.\n"
     ]
    }
   ],
   "source": [
    "# 2-1) open 함수를 활용하여 파일의 내용을 불러옵니다.\n",
    "f = open(\"file_name.txt\", encoding=\"utf-8\")\n",
    "for line in f:\n",
    "    print(line.strip())\n",
    "f.close()"
   ]
  },
  {
   "cell_type": "code",
   "execution_count": 15,
   "metadata": {},
   "outputs": [
    {
     "name": "stdout",
     "output_type": "stream",
     "text": [
      "0\t기존 파일에 새로운 문자열을 덮어씁니다.\n",
      "1\t기존 파일에 새로운 문자열을 덮어씁니다.\n",
      "2\t기존 파일에 새로운 문자열을 덮어씁니다.\n",
      "3\t기존 파일에 새로운 문자열을 덮어씁니다.\n",
      "4\t기존 파일에 새로운 문자열을 덮어씁니다.\n",
      "\n"
     ]
    }
   ],
   "source": [
    "# 2-1) read() 함수를 활용하면 반복문 없이 파일의 내용을 불러올 수 있습니다.\n",
    "f = open(\"file_name.txt\", encoding=\"utf-8\")\n",
    "print(f.read())\n",
    "f.close()"
   ]
  },
  {
   "cell_type": "markdown",
   "metadata": {},
   "source": [
    "#### 2.2. 파일 입출력(FILE I/O): WITH 문을 활용해 파일을 다룹니다.\n",
    "\n",
    "---"
   ]
  },
  {
   "cell_type": "code",
   "execution_count": 16,
   "metadata": {
    "collapsed": true
   },
   "outputs": [],
   "source": [
    "# 1-1) open 함수를 활용하여 새로운 파일을 생성하고 내용을 기록합니다.\n",
    "with open(\"file_name.txt\", \"w\", encoding=\"utf-8\") as f:\n",
    "    for i in range(5):\n",
    "        f.write(str(i) + \"\\t파일에 새로운 문자열을 입력합니다.\" + \"\\n\")"
   ]
  },
  {
   "cell_type": "code",
   "execution_count": 17,
   "metadata": {
    "collapsed": true
   },
   "outputs": [],
   "source": [
    "# 1-2) 동일한 파일이름으로 파일을 생성하는 경우 내용이 덮어쓰기 됩니다.\n",
    "with open(\"file_name.txt\", \"w\", encoding=\"utf-8\") as f:\n",
    "    for i in range(5):\n",
    "        f.write(str(i) + \"\\t기존 파일에 새로운 문자열을 덮어씁니다.\" + \"\\n\")"
   ]
  },
  {
   "cell_type": "code",
   "execution_count": 18,
   "metadata": {},
   "outputs": [
    {
     "name": "stdout",
     "output_type": "stream",
     "text": [
      "0\t기존 파일에 새로운 문자열을 덮어씁니다.\n",
      "1\t기존 파일에 새로운 문자열을 덮어씁니다.\n",
      "2\t기존 파일에 새로운 문자열을 덮어씁니다.\n",
      "3\t기존 파일에 새로운 문자열을 덮어씁니다.\n",
      "4\t기존 파일에 새로운 문자열을 덮어씁니다.\n"
     ]
    }
   ],
   "source": [
    "# 2-1) open 함수를 활용하여 파일의 내용을 불러옵니다.\n",
    "with open(\"file_name.txt\", encoding=\"utf-8\") as f:\n",
    "    for line in f:\n",
    "        print(line.strip())"
   ]
  },
  {
   "cell_type": "code",
   "execution_count": 19,
   "metadata": {},
   "outputs": [
    {
     "name": "stdout",
     "output_type": "stream",
     "text": [
      "0\t기존 파일에 새로운 문자열을 덮어씁니다.\n",
      "1\t기존 파일에 새로운 문자열을 덮어씁니다.\n",
      "2\t기존 파일에 새로운 문자열을 덮어씁니다.\n",
      "3\t기존 파일에 새로운 문자열을 덮어씁니다.\n",
      "4\t기존 파일에 새로운 문자열을 덮어씁니다.\n",
      "\n"
     ]
    }
   ],
   "source": [
    "# 2-1) read() 함수를 활용하면 반복문 없이 파일의 내용을 불러올 수 있습니다.\n",
    "with open(\"file_name.txt\", encoding=\"utf-8\") as f:\n",
    "    print(f.read())"
   ]
  },
  {
   "cell_type": "markdown",
   "metadata": {},
   "source": [
    "#### 2.3. 파일 입출력(FILE I/O): 내용을 엑셀파일로 저장합니다.\n",
    "- 본 자료에서는 엑셀파일을 생성하는 방법에 대해서만 다룹니다.\n",
    "- 엑셀파일에서 데이터를 불러올 때에는 CSV 파일로 별도 저장하여 텍스트 파일과 동일하게 불러옵니다.\n",
    "\n",
    "---"
   ]
  },
  {
   "cell_type": "code",
   "execution_count": 20,
   "metadata": {
    "collapsed": true
   },
   "outputs": [],
   "source": [
    "# Python으로 엑셀파일을 생성할 수 있도록 도와주는 xlwt 패키지를 설치합니다.\n",
    "\n",
    "#!pip install xlwt"
   ]
  },
  {
   "cell_type": "code",
   "execution_count": 21,
   "metadata": {
    "collapsed": true
   },
   "outputs": [],
   "source": [
    "# xlwt 패키지를 불러옵니다.\n",
    "import xlwt\n",
    "import io\n",
    "\n",
    "# 가상의 엑셀파일(Workbook)을 만듭니다.\n",
    "workbook = xlwt.Workbook()\n",
    "\n",
    "# 엑셀파일에 새로운 시트를 생성합니다.\n",
    "# 시트이름을 지정합니다.\n",
    "sheet_name = \"sheet_name\"\n",
    "# 시트를 생성합니다.\n",
    "sheet = workbook.add_sheet(sheet_name)\n",
    "\n",
    "# 시트에 기록할 데이터를 2차원 리스트 형태로 구성합니다.\n",
    "# 내용을 텍스트(String), 숫자(integer, float) 모두 가능합니다.\n",
    "data_list = [[\"이름\", \"성별\", \"나이\"]\n",
    "            ,[\"홍길동\", \"남\", \"35\"]\n",
    "            ,[\"춘향이\", \"여\", \"30\"]\n",
    "            ,[\"이몽룡\", \"남\", \"45\"]]\n",
    "\n",
    "# 행과 열을 순회하며 시트의 각 셀에 내용을 기록합니다.\n",
    "for row in range(len(data_list)):\n",
    "    for col in range(len(data_list[row])):\n",
    "        content = data_list[row][col]\n",
    "        sheet.write(row, col, content)\n",
    "\n",
    "# 생성할 엑셀파일의 이름을 입력합니다.\n",
    "file_name = \"file_name.xls\"\n",
    "# 생성한 시트를 포함한 파일을 저장합니다.\n",
    "workbook.save(file_name)"
   ]
  }
 ],
 "metadata": {
  "kernelspec": {
   "display_name": "Python 3",
   "language": "python",
   "name": "python3"
  },
  "language_info": {
   "codemirror_mode": {
    "name": "ipython",
    "version": 3
   },
   "file_extension": ".py",
   "mimetype": "text/x-python",
   "name": "python",
   "nbconvert_exporter": "python",
   "pygments_lexer": "ipython3",
   "version": "3.6.8"
  }
 },
 "nbformat": 4,
 "nbformat_minor": 2
}
