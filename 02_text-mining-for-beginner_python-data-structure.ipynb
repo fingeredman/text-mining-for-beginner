{
 "cells": [
  {
   "cell_type": "markdown",
   "metadata": {},
   "source": [
    "# TEXT MINING for BEGINNER\n",
    "- 본 자료는 텍스트 마이닝을 활용한 연구 및 강의를 위한 목적으로 제작되었습니다.\n",
    "- 본 자료의 허가되지 않은 배포를 금지합니다.\n",
    "- 저작권, 출판, 특허, 공동저자에 관련해서는 따로 문의 바랍니다.\n",
    "- **Contact : 전병진(fingeredman@gmail.com)**\n",
    "\n",
    "---"
   ]
  },
  {
   "cell_type": "markdown",
   "metadata": {},
   "source": [
    "## DAY 02. Python 자료구조 이해하기\n",
    "- 텍스트 데이터를 다루기 위한 Python 자료구조에 대해 다룹니다.\n",
    "\n",
    "---"
   ]
  },
  {
   "cell_type": "markdown",
   "metadata": {},
   "source": [
    "### 1. 리스트(LIST) 자료구조 이해하기\n",
    "\n",
    "---"
   ]
  },
  {
   "cell_type": "markdown",
   "metadata": {},
   "source": [
    "#### 1.1. 리스트(LIST): 값 또는 자료구조를 저장할 수 있는 구조를 선언합니다.\n",
    "\n",
    "---"
   ]
  },
  {
   "cell_type": "code",
   "execution_count": 1,
   "metadata": {},
   "outputs": [
    {
     "name": "stdout",
     "output_type": "stream",
     "text": [
      "[0, 1, 2, 3, 4, 5, 6, 7, 8, 9]\n"
     ]
    }
   ],
   "source": [
    "# 1) 리스트를 생성합니다.\n",
    "new_list = [0, 1, 2, 3, 4, 5, 6, 7, 8, 9]\n",
    "print(new_list)"
   ]
  },
  {
   "cell_type": "code",
   "execution_count": 2,
   "metadata": {},
   "outputs": [
    {
     "name": "stdout",
     "output_type": "stream",
     "text": [
      "[0, 1, 2, 3, 4, 5, 6, 7, 8, 9, 100]\n"
     ]
    }
   ],
   "source": [
    "# 2) 리스트의 마지막 원소 뒤에 새로운 원소를 추가합니다.\n",
    "new_list.append(100)\n",
    "print(new_list)"
   ]
  },
  {
   "cell_type": "code",
   "execution_count": 3,
   "metadata": {},
   "outputs": [
    {
     "name": "stdout",
     "output_type": "stream",
     "text": [
      "[0, 1, 2, 3, 4, 5, 6, 7, 8, 9, 100, 101, 102]\n"
     ]
    }
   ],
   "source": [
    "# 3) 더하기 연산자를 활용해 두 리스트를 결합합니다.\n",
    "new_list = new_list + [101, 102]\n",
    "print(new_list)"
   ]
  },
  {
   "cell_type": "code",
   "execution_count": 4,
   "metadata": {},
   "outputs": [
    {
     "name": "stdout",
     "output_type": "stream",
     "text": [
      "[0, 1, 2, 4, 5, 6, 7, 8, 9, 100, 101, 102]\n"
     ]
    }
   ],
   "source": [
    "# 4-1) 리스트에 존재하는 특정 원소 중 일치하는 가장 앞의 원소를 삭제합니다.\n",
    "new_list.remove(3)\n",
    "print(new_list)"
   ]
  },
  {
   "cell_type": "code",
   "execution_count": 5,
   "metadata": {},
   "outputs": [
    {
     "name": "stdout",
     "output_type": "stream",
     "text": [
      "[0, 1, 2, 5, 6, 7, 8, 9, 100, 101, 102]\n"
     ]
    }
   ],
   "source": [
    "# 4-2) 리스트에 존재하는 N 번째 원소를 삭제합니다.\n",
    "del new_list[3]\n",
    "print(new_list)"
   ]
  },
  {
   "cell_type": "code",
   "execution_count": 6,
   "metadata": {},
   "outputs": [
    {
     "name": "stdout",
     "output_type": "stream",
     "text": [
      "[105, 1, 2, 5, 6, 7, 8, 9, 100, 101, 102]\n"
     ]
    }
   ],
   "source": [
    "# 5) 리스트에 존재하는 N 번째 원소의 값을 변경합니다.\n",
    "new_list[0] = 105\n",
    "print(new_list)"
   ]
  },
  {
   "cell_type": "code",
   "execution_count": 7,
   "metadata": {},
   "outputs": [
    {
     "name": "stdout",
     "output_type": "stream",
     "text": [
      "[1, 2, 5, 6, 7, 8, 9, 100, 101, 102, 105]\n"
     ]
    }
   ],
   "source": [
    "# 6) 리스트에 존재하는 모든 원소를 오름차순으로 정렬합니다.\n",
    "new_list.sort()\n",
    "#new_list.sort(reverse=False)\n",
    "print(new_list)"
   ]
  },
  {
   "cell_type": "code",
   "execution_count": 8,
   "metadata": {},
   "outputs": [
    {
     "name": "stdout",
     "output_type": "stream",
     "text": [
      "[105, 102, 101, 100, 9, 8, 7, 6, 5, 2, 1]\n"
     ]
    }
   ],
   "source": [
    "# 7) 리스트에 존재하는 모든 원소를 내림차순으로 정렬합니다.\n",
    "new_list.sort(reverse=True)\n",
    "print(new_list)"
   ]
  },
  {
   "cell_type": "code",
   "execution_count": 9,
   "metadata": {},
   "outputs": [
    {
     "name": "stdout",
     "output_type": "stream",
     "text": [
      "[1, 2, 5, 6, 7, 8, 9, 100, 101, 102, 105]\n"
     ]
    }
   ],
   "source": [
    "# 8) 리스트에 존재하는 모든 원소의 순서를 거꾸로 변경합니다.\n",
    "new_list.reverse()\n",
    "print(new_list)"
   ]
  },
  {
   "cell_type": "code",
   "execution_count": 10,
   "metadata": {},
   "outputs": [
    {
     "name": "stdout",
     "output_type": "stream",
     "text": [
      "[1, 2, 5, 6, 7, 8, 9, 100, 101, 102, 105]\n"
     ]
    }
   ],
   "source": [
    "# 9) 리스트에 존재하는 모든 원소의 개수를 불러옵니다.\n",
    "length = len(new_list)\n",
    "print(new_list)"
   ]
  },
  {
   "cell_type": "code",
   "execution_count": 11,
   "metadata": {},
   "outputs": [
    {
     "name": "stdout",
     "output_type": "stream",
     "text": [
      "True\n"
     ]
    }
   ],
   "source": [
    "# 10-1) 리스트에 특정 원소에 존재하는지 여부를 in 연산자를 통해 확인합니다.\n",
    "print(100 in new_list)"
   ]
  },
  {
   "cell_type": "code",
   "execution_count": 12,
   "metadata": {},
   "outputs": [
    {
     "name": "stdout",
     "output_type": "stream",
     "text": [
      "False\n"
     ]
    }
   ],
   "source": [
    "# 10-2) 리스트에 특정 원소에 존재하지 않는지 여부를 not in 연산자를 통해 확인합니다.\n",
    "print(100 not in new_list)"
   ]
  },
  {
   "cell_type": "markdown",
   "metadata": {},
   "source": [
    "#### 1.2. 리스트(LIST) 인덱싱: 리스트에 존재하는 특정 원소를 불러옵니다.\n",
    "\n",
    "---"
   ]
  },
  {
   "cell_type": "code",
   "execution_count": 13,
   "metadata": {
    "collapsed": true
   },
   "outputs": [],
   "source": [
    "new_list = [0, 1, 2, 3, 4, 5, 6, 7, 8, 9]"
   ]
  },
  {
   "cell_type": "code",
   "execution_count": 14,
   "metadata": {},
   "outputs": [
    {
     "name": "stdout",
     "output_type": "stream",
     "text": [
      "0번째 원소 : 0\n",
      "1번째 원소 : 1\n",
      "4번째 원소 : 4\n"
     ]
    }
   ],
   "source": [
    "# 1) 리스트에 존재하는 N 번째 원소를 불러옵니다.\n",
    "print(\"0번째 원소 :\", new_list[0])\n",
    "print(\"1번째 원소 :\", new_list[1])\n",
    "print(\"4번째 원소 :\", new_list[4])"
   ]
  },
  {
   "cell_type": "code",
   "execution_count": 15,
   "metadata": {},
   "outputs": [
    {
     "name": "stdout",
     "output_type": "stream",
     "text": [
      "0~3번째 원소 [0, 1, 2]\n",
      "4~9번째 원소 [4, 5, 6, 7, 8]\n",
      "2~3번째 원소 [2]\n"
     ]
    }
   ],
   "source": [
    "# 2) 리스트에 존재하는 N번째 부터 M-1번째 원소를 리스트 형식으로 불러옵니다.\n",
    "print(\"0~3번째 원소\", new_list[0:3])\n",
    "print(\"4~9번째 원소\", new_list[4:9])\n",
    "print(\"2~3번째 원소\", new_list[2:3])"
   ]
  },
  {
   "cell_type": "code",
   "execution_count": 16,
   "metadata": {},
   "outputs": [
    {
     "name": "stdout",
     "output_type": "stream",
     "text": [
      "3번째 부터 모든 원소 : [3, 4, 5, 6, 7, 8, 9]\n",
      "5번째 부터 모든 원소 : [5, 6, 7, 8, 9]\n",
      "9번째 부터 모든 원소 : [9]\n"
     ]
    }
   ],
   "source": [
    "# 3) 리스트에 존재하는 N번째 부터 모든 원소를 리스트 형식으로 불러옵니다.\n",
    "print(\"3번째 부터 모든 원소 :\", new_list[3:])\n",
    "print(\"5번째 부터 모든 원소 :\", new_list[5:])\n",
    "print(\"9번째 부터 모든 원소 :\", new_list[9:])"
   ]
  },
  {
   "cell_type": "code",
   "execution_count": 17,
   "metadata": {},
   "outputs": [
    {
     "name": "stdout",
     "output_type": "stream",
     "text": [
      "1번째 이전의 모든 원소 : [0]\n",
      "7번째 이전의 모든 원소 : [0, 1, 2, 3, 4, 5, 6]\n",
      "9번째 이전의 모든 원소 : [0, 1, 2, 3, 4, 5, 6, 7, 8]\n"
     ]
    }
   ],
   "source": [
    "# 4) 리스트에 존재하는 N번째 이전의 모든 원소를 리스트 형식으로 불러옵니다.\n",
    "print(\"1번째 이전의 모든 원소 :\", new_list[:1])\n",
    "print(\"7번째 이전의 모든 원소 :\", new_list[:7])\n",
    "print(\"9번째 이전의 모든 원소 :\", new_list[:9])"
   ]
  },
  {
   "cell_type": "code",
   "execution_count": 18,
   "metadata": {},
   "outputs": [
    {
     "name": "stdout",
     "output_type": "stream",
     "text": [
      "끝에서 |-1|-1번째 이전의 모든 원소 : [0, 1, 2, 3, 4, 5, 6, 7, 8]\n",
      "끝에서 |-1|-1번째 부터 모든 원소 : [9]\n",
      "끝에서 |-2|-1번째 이전의 모든 원소 : [0, 1, 2, 3, 4, 5, 6, 7]\n",
      "끝에서 |-2|-1번째 부터 모든 원소 : [8, 9]\n"
     ]
    }
   ],
   "source": [
    "# 5) 리스트 인덱싱에 사용되는 정수 N의 부호가 음수인 경우, 마지막 원소부터 |N|-1번째 원소를 의미합니다.\n",
    "print(\"끝에서 |-1|-1번째 이전의 모든 원소 :\", new_list[:-1])\n",
    "print(\"끝에서 |-1|-1번째 부터 모든 원소 :\", new_list[-1:])\n",
    "print(\"끝에서 |-2|-1번째 이전의 모든 원소 :\", new_list[:-2])\n",
    "print(\"끝에서 |-2|-1번째 부터 모든 원소 :\", new_list[-2:])"
   ]
  },
  {
   "cell_type": "markdown",
   "metadata": {},
   "source": [
    "#### 1.3. 다차원 리스트(LIST): 리스트의 원소에 다양한 값 또는 자료구조를 저장할 수 있습니다.\n",
    "\n",
    "---"
   ]
  },
  {
   "cell_type": "code",
   "execution_count": 19,
   "metadata": {},
   "outputs": [
    {
     "name": "stdout",
     "output_type": "stream",
     "text": [
      "['텍스트', 0, 1.9, [1, 2, 3, 4], {'서울': 1, '부산': 2, '대구': 3}]\n"
     ]
    }
   ],
   "source": [
    "# 1-1) 리스트의 원소에는 유형(TYPE)의 값 또는 자료구조를 섞어서 저장할 수 있습니다.\n",
    "new_list = [\"텍스트\", 0, 1.9, [1, 2, 3, 4], {\"서울\": 1, \"부산\": 2, \"대구\": 3}]\n",
    "print(new_list)"
   ]
  },
  {
   "cell_type": "code",
   "execution_count": 20,
   "metadata": {},
   "outputs": [
    {
     "name": "stdout",
     "output_type": "stream",
     "text": [
      "Type of new_list[0] : <class 'str'>\n",
      "Type of new_list[1] : <class 'int'>\n",
      "Type of new_list[2] : <class 'float'>\n",
      "Type of new_list[3] : <class 'list'>\n",
      "Type of new_list[4] : <class 'dict'>\n"
     ]
    }
   ],
   "source": [
    "# 1-2) 리스트의 각 원소의 유형(TYPE)을 type(변수) 함수를 활용해 확인합니다.\n",
    "print(\"Type of new_list[0] :\", type(new_list[0]))\n",
    "print(\"Type of new_list[1] :\", type(new_list[1]))\n",
    "print(\"Type of new_list[2] :\", type(new_list[2]))\n",
    "print(\"Type of new_list[3] :\", type(new_list[3]))\n",
    "print(\"Type of new_list[4] :\", type(new_list[4]))"
   ]
  },
  {
   "cell_type": "code",
   "execution_count": 21,
   "metadata": {},
   "outputs": [
    {
     "name": "stdout",
     "output_type": "stream",
     "text": [
      "new_list : [[0, 1, 2], [2, 3, 7], [9, 6, 8], [4, 5, 1]]\n",
      "new_list[0] : [0, 1, 2]\n",
      "new_list[1] : [2, 3, 7]\n",
      "new_list[2] : [9, 6, 8]\n",
      "new_list[3] : [4, 5, 1]\n"
     ]
    }
   ],
   "source": [
    "# 2) 리스트 원소에 리스트를 여러개 추가하여 다차원 리스트(NxM)를 생성할 수 있습니다.\n",
    "new_list = [[0, 1, 2], [2, 3, 7], [9, 6, 8], [4, 5, 1]]\n",
    "print(\"new_list :\", new_list)\n",
    "print(\"new_list[0] :\", new_list[0])\n",
    "print(\"new_list[1] :\", new_list[1])\n",
    "print(\"new_list[2] :\", new_list[2])\n",
    "print(\"new_list[3] :\", new_list[3])"
   ]
  },
  {
   "cell_type": "code",
   "execution_count": 22,
   "metadata": {},
   "outputs": [
    {
     "name": "stdout",
     "output_type": "stream",
     "text": [
      "new_list : [[0, 1, 2], [2, 3, 7], [4, 5, 1], [9, 6, 8]]\n",
      "new_list[0] : [0, 1, 2]\n",
      "new_list[1] : [2, 3, 7]\n",
      "new_list[2] : [4, 5, 1]\n",
      "new_list[3] : [9, 6, 8]\n"
     ]
    }
   ],
   "source": [
    "# 3-1) 다차원 리스트(NxM)를 정렬하는 경우 기본적으로 각 리스트의 첫번째 원소를 기준으로 정렬합니다.\n",
    "new_list.sort()\n",
    "print(\"new_list :\", new_list)\n",
    "print(\"new_list[0] :\", new_list[0])\n",
    "print(\"new_list[1] :\", new_list[1])\n",
    "print(\"new_list[2] :\", new_list[2])\n",
    "print(\"new_list[3] :\", new_list[3])"
   ]
  },
  {
   "cell_type": "code",
   "execution_count": 23,
   "metadata": {},
   "outputs": [
    {
     "name": "stdout",
     "output_type": "stream",
     "text": [
      "new_list : [[4, 5, 1], [0, 1, 2], [2, 3, 7], [9, 6, 8]]\n",
      "new_list[0] : [4, 5, 1]\n",
      "new_list[1] : [0, 1, 2]\n",
      "new_list[2] : [2, 3, 7]\n",
      "new_list[3] : [9, 6, 8]\n"
     ]
    }
   ],
   "source": [
    "# 3-2) 다차원 리스트(NxM)를 각 리스트의 N 번째 원소를 기준으로 정렬합니다.\n",
    "new_list.sort(key=lambda elem: elem[2])\n",
    "print(\"new_list :\", new_list)\n",
    "print(\"new_list[0] :\", new_list[0])\n",
    "print(\"new_list[1] :\", new_list[1])\n",
    "print(\"new_list[2] :\", new_list[2])\n",
    "print(\"new_list[3] :\", new_list[3])"
   ]
  },
  {
   "cell_type": "markdown",
   "metadata": {},
   "source": [
    "### 2. 딕셔너리(DICTIONARY) 자료구조 이해하기\n",
    "\n",
    "---"
   ]
  },
  {
   "cell_type": "markdown",
   "metadata": {},
   "source": [
    "#### 2.1. 딕셔너리(DICTIONARY): 값 또는 자료구조를 저장할 수 있는 구조를 선언합니다.\n",
    "\n",
    "---"
   ]
  },
  {
   "cell_type": "code",
   "execution_count": 24,
   "metadata": {},
   "outputs": [
    {
     "name": "stdout",
     "output_type": "stream",
     "text": [
      "{'마케팅팀': 98, '개발팀': 78, '데이터분석팀': 83, '운영팀': 33}\n"
     ]
    }
   ],
   "source": [
    "# 1) 딕셔너리를 생성합니다.\n",
    "new_dict = {\"마케팅팀\": 98, \"개발팀\": 78, \"데이터분석팀\": 83, \"운영팀\": 33}\n",
    "print(new_dict)"
   ]
  },
  {
   "cell_type": "code",
   "execution_count": 25,
   "metadata": {},
   "outputs": [
    {
     "name": "stdout",
     "output_type": "stream",
     "text": [
      "98\n"
     ]
    }
   ],
   "source": [
    "# 2) 딕셔너리의 각 원소는 KEY:VALUE 쌍의 구조를 가지며, KEY 값에 대응되는 VALUE를 불러옵니다.\n",
    "print(new_dict[\"마케팅팀\"])"
   ]
  },
  {
   "cell_type": "code",
   "execution_count": 26,
   "metadata": {},
   "outputs": [
    {
     "name": "stdout",
     "output_type": "stream",
     "text": [
      "{'마케팅팀': 98, '개발팀': 78, '데이터분석팀': 83, '운영팀': 33, '미화팀': 55}\n"
     ]
    }
   ],
   "source": [
    "# 3-1) 딕셔너리에 새로운 KEY:VALUE 쌍의 원소를 추가합니다.\n",
    "new_dict[\"미화팀\"] = 55\n",
    "print(new_dict)"
   ]
  },
  {
   "cell_type": "code",
   "execution_count": 27,
   "metadata": {},
   "outputs": [
    {
     "name": "stdout",
     "output_type": "stream",
     "text": [
      "{'마케팅팀': 98, '개발팀': 78, '데이터분석팀': 100, '운영팀': 33, '미화팀': 55}\n"
     ]
    }
   ],
   "source": [
    "# 3-2) 딕셔너리에 저장된 각 원소의 KEY 값은 유일해야하기 때문에, 중복된 KEY 값이 추가되는 경우 VALUE는 덮어쓰기 됩니다.\n",
    "new_dict[\"데이터분석팀\"] = 100\n",
    "print(new_dict)"
   ]
  },
  {
   "cell_type": "code",
   "execution_count": 28,
   "metadata": {},
   "outputs": [
    {
     "name": "stdout",
     "output_type": "stream",
     "text": [
      "{'마케팅팀': 98, '개발팀': '재평가', '데이터분석팀': {'등급': 'A'}, '운영팀': ['A'], '미화팀': 55, 0: '오타'}\n"
     ]
    }
   ],
   "source": [
    "# 4) 딕셔너리에 다양한 유형(TYPE)의 값 또는 자료구조를 VALUE로 사용할 수 있습니다.\n",
    "new_dict[\"데이터분석팀\"] = {\"등급\": \"A\"}\n",
    "new_dict[\"운영팀\"] = [\"A\"]\n",
    "new_dict[\"개발팀\"] = \"재평가\"\n",
    "new_dict[0] = \"오타\"\n",
    "print(new_dict)"
   ]
  },
  {
   "cell_type": "markdown",
   "metadata": {},
   "source": [
    "#### 2.2. 딕셔너리(DICTIONARY) 인덱싱: 딕셔너리에 존재하는 원소를 리스트 형태로 불러옵니다.\n",
    "\n",
    "---"
   ]
  },
  {
   "cell_type": "code",
   "execution_count": 29,
   "metadata": {},
   "outputs": [
    {
     "name": "stdout",
     "output_type": "stream",
     "text": [
      "KEY List of new_dict : dict_keys(['마케팅팀', '개발팀', '데이터분석팀', '운영팀'])\n",
      "VALUE List of new_dict : dict_values([98, 78, 83, 33])\n",
      "(KEY, VALUE) List of new_dict : dict_items([('마케팅팀', 98), ('개발팀', 78), ('데이터분석팀', 83), ('운영팀', 33)])\n"
     ]
    }
   ],
   "source": [
    "# 1-1) 다양한 함수를 활용해 딕셔너리를 인덱싱 가능한 구조로 불러옵니다.\n",
    "new_dict = {\"마케팅팀\": 98, \"개발팀\": 78, \"데이터분석팀\": 83, \"운영팀\": 33}\n",
    "print(\"KEY List of new_dict :\", new_dict.keys())\n",
    "print(\"VALUE List of new_dict :\", new_dict.values())\n",
    "print(\"(KEY, VALUE) List of new_dict :\", new_dict.items())"
   ]
  },
  {
   "cell_type": "code",
   "execution_count": 30,
   "metadata": {},
   "outputs": [
    {
     "name": "stdout",
     "output_type": "stream",
     "text": [
      "KEY List of new_dict : ['마케팅팀', '개발팀', '데이터분석팀', '운영팀']\n",
      "VALUE List of new_dict : [98, 78, 83, 33]\n",
      "(KEY, VALUE) List of new_dict : [('마케팅팀', 98), ('개발팀', 78), ('데이터분석팀', 83), ('운영팀', 33)]\n"
     ]
    }
   ],
   "source": [
    "# 1-2) 불러온 자료구조를 실제 리스트 자료구조로 변환합니다.\n",
    "print(\"KEY List of new_dict :\", list(new_dict.keys()))\n",
    "print(\"VALUE List of new_dict :\", list(new_dict.values()))\n",
    "print(\"(KEY, VALUE) List of new_dict :\", list(new_dict.items()))"
   ]
  },
  {
   "cell_type": "code",
   "execution_count": null,
   "metadata": {
    "collapsed": true
   },
   "outputs": [],
   "source": []
  }
 ],
 "metadata": {
  "kernelspec": {
   "display_name": "Python 3",
   "language": "python",
   "name": "python3"
  },
  "language_info": {
   "codemirror_mode": {
    "name": "ipython",
    "version": 3
   },
   "file_extension": ".py",
   "mimetype": "text/x-python",
   "name": "python",
   "nbconvert_exporter": "python",
   "pygments_lexer": "ipython3",
   "version": "3.6.8"
  }
 },
 "nbformat": 4,
 "nbformat_minor": 2
}
